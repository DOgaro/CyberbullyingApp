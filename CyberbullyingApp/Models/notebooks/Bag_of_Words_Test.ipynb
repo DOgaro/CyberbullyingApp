{
  "nbformat": 4,
  "nbformat_minor": 0,
  "metadata": {
    "colab": {
      "name": "Bag_of_Words Test.ipynb",
      "provenance": []
    },
    "kernelspec": {
      "name": "python3",
      "display_name": "Python 3"
    }
  },
  "cells": [
    {
      "cell_type": "code",
      "metadata": {
        "id": "Wg01sdHTLfgZ"
      },
      "source": [
        "import pandas as pd\n",
        "import numpy as np\n",
        "import seaborn as sns\n",
        "from nltk.corpus import stopwords \n",
        "from nltk.tokenize import word_tokenize\n",
        "import string \n",
        "from nltk.stem import WordNetLemmatizer\n",
        "from pylab import rcParams\n",
        "import matplotlib.pyplot as plt\n",
        "from matplotlib import rc\n",
        "from sklearn.model_selection import train_test_split\n",
        "from sklearn.metrics import confusion_matrix, classification_report\n",
        "from collections import defaultdict\n",
        "from textwrap import wrap\n",
        "\n",
        "%matplotlib inline\n",
        "%config InlineBackend.figure_format='retina'\n",
        "\n",
        "sns.set(style='whitegrid', palette='muted', font_scale=1.2)\n",
        "\n",
        "HAPPY_COLORS_PALETTE = [\"#01BEFE\", \"#FFDD00\", \"#FF7D00\", \"#FF006D\", \"#ADFF02\", \"#8F00FF\"]\n",
        "\n",
        "sns.set_palette(sns.color_palette(HAPPY_COLORS_PALETTE))\n",
        "\n",
        "rcParams['figure.figsize'] = 12, 8"
      ],
      "execution_count": 1,
      "outputs": []
    },
    {
      "cell_type": "code",
      "metadata": {
        "id": "VpblVdNWMHDc",
        "colab": {
          "resources": {
            "http://localhost:8080/nbextensions/google.colab/files.js": {
              "data": "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",
              "ok": true,
              "headers": [
                [
                  "content-type",
                  "application/javascript"
                ]
              ],
              "status": 200,
              "status_text": "OK"
            }
          },
          "base_uri": "https://localhost:8080/",
          "height": 77
        },
        "outputId": "333674fa-51fe-4648-9453-c526c61dbb8b"
      },
      "source": [
        "from google.colab import files\n",
        "upload=files.upload() # LOADING DATA FROM OUR LOCAL MACHINE"
      ],
      "execution_count": 64,
      "outputs": [
        {
          "output_type": "display_data",
          "data": {
            "text/html": [
              "\n",
              "     <input type=\"file\" id=\"files-73df50c7-56d3-44e4-b3e7-34fe71e4ecbd\" name=\"files[]\" multiple disabled\n",
              "        style=\"border:none\" />\n",
              "     <output id=\"result-73df50c7-56d3-44e4-b3e7-34fe71e4ecbd\">\n",
              "      Upload widget is only available when the cell has been executed in the\n",
              "      current browser session. Please rerun this cell to enable.\n",
              "      </output>\n",
              "      <script src=\"/nbextensions/google.colab/files.js\"></script> "
            ],
            "text/plain": [
              "<IPython.core.display.HTML object>"
            ]
          },
          "metadata": {
            "tags": []
          }
        },
        {
          "output_type": "stream",
          "text": [
            "Saving dataset1.csv to dataset1 (1).csv\n"
          ],
          "name": "stdout"
        }
      ]
    },
    {
      "cell_type": "code",
      "metadata": {
        "id": "datj4QkOL_Fe",
        "colab": {
          "base_uri": "https://localhost:8080/",
          "height": 206
        },
        "outputId": "776bdc86-d1da-4a4a-a89c-eb59f3fe0a0e"
      },
      "source": [
        "# READING THE DATASET AND DISPLAYING ITS CONTENTS\n",
        "df1 = pd.read_csv('dataset1 (1).csv', header=0)\n",
        "df1.head()"
      ],
      "execution_count": 78,
      "outputs": [
        {
          "output_type": "execute_result",
          "data": {
            "text/html": [
              "<div>\n",
              "<style scoped>\n",
              "    .dataframe tbody tr th:only-of-type {\n",
              "        vertical-align: middle;\n",
              "    }\n",
              "\n",
              "    .dataframe tbody tr th {\n",
              "        vertical-align: top;\n",
              "    }\n",
              "\n",
              "    .dataframe thead th {\n",
              "        text-align: right;\n",
              "    }\n",
              "</style>\n",
              "<table border=\"1\" class=\"dataframe\">\n",
              "  <thead>\n",
              "    <tr style=\"text-align: right;\">\n",
              "      <th></th>\n",
              "      <th>Tweet</th>\n",
              "      <th>Text Label</th>\n",
              "      <th>Label</th>\n",
              "    </tr>\n",
              "  </thead>\n",
              "  <tbody>\n",
              "    <tr>\n",
              "      <th>0</th>\n",
              "      <td>.I just bought my cap and gown.', 'Yo this is ...</td>\n",
              "      <td>Non-Bullying</td>\n",
              "      <td>0</td>\n",
              "    </tr>\n",
              "    <tr>\n",
              "      <th>1</th>\n",
              "      <td>Dumbass is one word..</td>\n",
              "      <td>Non-Bullying</td>\n",
              "      <td>0</td>\n",
              "    </tr>\n",
              "    <tr>\n",
              "      <th>2</th>\n",
              "      <td>APPRECIATE THAT PERSON IN UR LIFE THAT STAYS W...</td>\n",
              "      <td>Non-Bullying</td>\n",
              "      <td>0</td>\n",
              "    </tr>\n",
              "    <tr>\n",
              "      <th>3</th>\n",
              "      <td>The *entire* discourse on the right has been v...</td>\n",
              "      <td>Non-Bullying</td>\n",
              "      <td>0</td>\n",
              "    </tr>\n",
              "    <tr>\n",
              "      <th>4</th>\n",
              "      <td>.My dumbass forgot my work uniform on my bed.....</td>\n",
              "      <td>Non-Bullying</td>\n",
              "      <td>0</td>\n",
              "    </tr>\n",
              "  </tbody>\n",
              "</table>\n",
              "</div>"
            ],
            "text/plain": [
              "                                               Tweet    Text Label  Label\n",
              "0  .I just bought my cap and gown.', 'Yo this is ...  Non-Bullying      0\n",
              "1                              Dumbass is one word..  Non-Bullying      0\n",
              "2  APPRECIATE THAT PERSON IN UR LIFE THAT STAYS W...  Non-Bullying      0\n",
              "3  The *entire* discourse on the right has been v...  Non-Bullying      0\n",
              "4  .My dumbass forgot my work uniform on my bed.....  Non-Bullying      0"
            ]
          },
          "metadata": {
            "tags": []
          },
          "execution_count": 78
        }
      ]
    },
    {
      "cell_type": "code",
      "metadata": {
        "id": "yBNAgkJVeIyc",
        "colab": {
          "base_uri": "https://localhost:8080/"
        },
        "outputId": "07ddbd0a-98a8-4715-932b-2f4b29b7fba6"
      },
      "source": [
        "df1.shape # DATASET SHAPE (No. OF ROWS AND COLUMNS)"
      ],
      "execution_count": 79,
      "outputs": [
        {
          "output_type": "execute_result",
          "data": {
            "text/plain": [
              "(960, 3)"
            ]
          },
          "metadata": {
            "tags": []
          },
          "execution_count": 79
        }
      ]
    },
    {
      "cell_type": "code",
      "metadata": {
        "id": "V0P2iGi_ePST",
        "colab": {
          "base_uri": "https://localhost:8080/"
        },
        "outputId": "eca9c81e-11c0-4683-b412-0eb32b87892d"
      },
      "source": [
        "df1.info() # DATASET INFORMATION (DATA TYPE AND NULL COUNT)"
      ],
      "execution_count": 80,
      "outputs": [
        {
          "output_type": "stream",
          "text": [
            "<class 'pandas.core.frame.DataFrame'>\n",
            "RangeIndex: 960 entries, 0 to 959\n",
            "Data columns (total 3 columns):\n",
            " #   Column      Non-Null Count  Dtype \n",
            "---  ------      --------------  ----- \n",
            " 0   Tweet       960 non-null    object\n",
            " 1   Text Label  960 non-null    object\n",
            " 2   Label       960 non-null    int64 \n",
            "dtypes: int64(1), object(2)\n",
            "memory usage: 22.6+ KB\n"
          ],
          "name": "stdout"
        }
      ]
    },
    {
      "cell_type": "code",
      "metadata": {
        "id": "Kgof6I5uNszo",
        "colab": {
          "base_uri": "https://localhost:8080/"
        },
        "outputId": "da3d6a68-80f6-4172-e591-7a7bc5bc67d3"
      },
      "source": [
        "print(df1)"
      ],
      "execution_count": 81,
      "outputs": [
        {
          "output_type": "stream",
          "text": [
            "                                                 Tweet    Text Label  Label\n",
            "0    .I just bought my cap and gown.', 'Yo this is ...  Non-Bullying      0\n",
            "1                                Dumbass is one word..  Non-Bullying      0\n",
            "2    APPRECIATE THAT PERSON IN UR LIFE THAT STAYS W...  Non-Bullying      0\n",
            "3    The *entire* discourse on the right has been v...  Non-Bullying      0\n",
            "4    .My dumbass forgot my work uniform on my bed.....  Non-Bullying      0\n",
            "..                                                 ...           ...    ...\n",
            "955  No we are not, But you are a race baiting libt...      Bullying      1\n",
            "956  you wont get anyone for this challenge., after...      Bullying      1\n",
            "957  I will follow you if you are not a libtard,Mus...      Bullying      1\n",
            "958  michaelianblack Ur a child, an ostrich w/ your...      Bullying      1\n",
            "959  FoxNews. not to all the ppl I know that live t...      Bullying      1\n",
            "\n",
            "[960 rows x 3 columns]\n"
          ],
          "name": "stdout"
        }
      ]
    },
    {
      "cell_type": "code",
      "metadata": {
        "colab": {
          "base_uri": "https://localhost:8080/",
          "height": 248
        },
        "id": "WyiMU_VHzFBD",
        "outputId": "060fe0ee-8cd9-4ae1-debd-f1c95ee9e340"
      },
      "source": [
        "df1 = pd.DataFrame(df1['Text Label'].value_counts().reset_index())\r\n",
        "plt.pie(data=df1,x='Text Label',labels='index', autopct='%.1f%%')\r\n",
        "# plotting legend \r\n",
        "plt.legend()   \r\n",
        "# showing the plot \r\n",
        "plt.show() "
      ],
      "execution_count": 77,
      "outputs": [
        {
          "output_type": "display_data",
          "data": {
            "image/png": "[encoded data removed]",
            "text/plain": [
              "<Figure size 432x288 with 1 Axes>"
            ]
          },
          "metadata": {
            "tags": [],
            "image/png": {
              "width": 231,
              "height": 231
            }
          }
        }
      ]
    },
    {
      "cell_type": "code",
      "metadata": {
        "id": "CqQquLmDPM0h",
        "colab": {
          "base_uri": "https://localhost:8080/"
        },
        "outputId": "50528f7f-df08-4e36-8b43-745b23a0bc38"
      },
      "source": [
        "import nltk\n",
        "nltk.download('punkt')\n",
        "nltk.download('stopwords')\n",
        "nltk.download('wordnet')"
      ],
      "execution_count": 82,
      "outputs": [
        {
          "output_type": "stream",
          "text": [
            "[nltk_data] Downloading package punkt to /root/nltk_data...\n",
            "[nltk_data]   Package punkt is already up-to-date!\n",
            "[nltk_data] Downloading package stopwords to /root/nltk_data...\n",
            "[nltk_data]   Package stopwords is already up-to-date!\n",
            "[nltk_data] Downloading package wordnet to /root/nltk_data...\n",
            "[nltk_data]   Package wordnet is already up-to-date!\n"
          ],
          "name": "stdout"
        },
        {
          "output_type": "execute_result",
          "data": {
            "text/plain": [
              "True"
            ]
          },
          "metadata": {
            "tags": []
          },
          "execution_count": 82
        }
      ]
    },
    {
      "cell_type": "code",
      "metadata": {
        "id": "rNqD-0IKN0Ny"
      },
      "source": [
        "Tweet = []\n",
        "Labels = []\n",
        "\n",
        "for row in df1[\"Tweet\"]:\n",
        "    #tokenize words\n",
        "    words = word_tokenize(row)\n",
        "    #remove punctuations\n",
        "    clean_words = [word.lower() for word in words if word not in set(string.punctuation)]\n",
        "    #remove stop words\n",
        "    english_stops = set(stopwords.words('english'))\n",
        "    characters_to_remove = [\"''\",'``',\"rt\",\"https\",\"’\",\"“\",\"”\",\"\\u200b\",\"--\",\"n't\",\"'s\",\"...\",\"//t.c\" ]\n",
        "    clean_words = [word for word in clean_words if word not in english_stops]\n",
        "    clean_words = [word for word in clean_words if word not in set(characters_to_remove)]\n",
        "    #Lematise words\n",
        "    wordnet_lemmatizer = WordNetLemmatizer()\n",
        "    lemma_list = [wordnet_lemmatizer.lemmatize(word) for word in clean_words]\n",
        "    Tweet.append(lemma_list)\n",
        "\n",
        "    for row in df1[\"Text Label\"]:\n",
        "        Labels.append(row)"
      ],
      "execution_count": 83,
      "outputs": []
    },
    {
      "cell_type": "code",
      "metadata": {
        "id": "h2-oJ_QYPkxf"
      },
      "source": [
        "#combine them to create bag of words\n",
        "combined = zip(Tweet, Labels)"
      ],
      "execution_count": 84,
      "outputs": []
    },
    {
      "cell_type": "code",
      "metadata": {
        "id": "6trlvT-9Prw5"
      },
      "source": [
        "#Create bag of words and dictionary object\n",
        "def bag_of_words(words):\n",
        "    return dict([(word, True) for word in words])"
      ],
      "execution_count": 85,
      "outputs": []
    },
    {
      "cell_type": "code",
      "metadata": {
        "id": "DXavsnh3PvXk"
      },
      "source": [
        "#Key, Value Pair into new list for modeling\n",
        "Final_Data = []\n",
        "for r, v in combined:\n",
        "    bag_of_words(r)\n",
        "    Final_Data.append((bag_of_words(r),v))"
      ],
      "execution_count": 86,
      "outputs": []
    },
    {
      "cell_type": "code",
      "metadata": {
        "id": "83roQh8JP3px",
        "colab": {
          "base_uri": "https://localhost:8080/"
        },
        "outputId": "5c73f4f7-1c94-4a34-f560-17e5bee091f3"
      },
      "source": [
        "#random shuffle\n",
        "import random\n",
        "random.shuffle(Final_Data)\n",
        "print(len(Final_Data))"
      ],
      "execution_count": 87,
      "outputs": [
        {
          "output_type": "stream",
          "text": [
            "960\n"
          ],
          "name": "stdout"
        }
      ]
    },
    {
      "cell_type": "code",
      "metadata": {
        "id": "teb2vVoaP6us"
      },
      "source": [
        "#Split the data into training set and testing 60/40 split\n",
        "train_set, test_set = Final_Data[0:746], Final_Data[746:]"
      ],
      "execution_count": 88,
      "outputs": []
    },
    {
      "cell_type": "code",
      "metadata": {
        "id": "DkxlLWkIP_tl"
      },
      "source": [
        "#import confusion matrix metrics and run Naive Bayes with Unigrams\n",
        "import nltk\n",
        "import collections\n",
        "from nltk.metrics.scores import (accuracy, precision, recall, f_measure) \n",
        "from nltk import metrics"
      ],
      "execution_count": 89,
      "outputs": []
    },
    {
      "cell_type": "code",
      "metadata": {
        "id": "H_9jNrouQLJt",
        "colab": {
          "base_uri": "https://localhost:8080/"
        },
        "outputId": "5a1f2257-6337-47b2-aa8e-124b580d51a4"
      },
      "source": [
        "#find accuracy\n",
        "refsets = collections. defaultdict(set)\n",
        "testsets = collections.defaultdict(set)\n",
        "\n",
        "classifier = nltk.NaiveBayesClassifier.train(train_set)\n",
        "\n",
        " \n",
        "for i, (feats, label) in enumerate(test_set):\n",
        "    refsets[label].add(i)\n",
        "    observed = classifier.classify(feats)\n",
        "    testsets[observed].add(i)\n",
        "\n",
        "\n",
        "print(\"Naive Bayes Performance with Unigrams \")    \n",
        "print(\"Accuracy:\",nltk.classify.accuracy(classifier, test_set))"
      ],
      "execution_count": 90,
      "outputs": [
        {
          "output_type": "stream",
          "text": [
            "Naive Bayes Performance with Unigrams \n",
            "Accuracy: 0.6682242990654206\n"
          ],
          "name": "stdout"
        }
      ]
    },
    {
      "cell_type": "code",
      "metadata": {
        "id": "_0g2geVkSF6F",
        "colab": {
          "base_uri": "https://localhost:8080/"
        },
        "outputId": "709e311a-2b9f-4e72-f29f-bdd1483d4dd2"
      },
      "source": [
        "#find recall\n",
        "nb_classifier = nltk.NaiveBayesClassifier.train(train_set)\n",
        "\n",
        "nbrefset = collections.defaultdict(set)\n",
        "nbtestset = collections.defaultdict(set)\n",
        " \n",
        "for i, (feats, label) in enumerate(test_set):\n",
        "    nbrefset[label].add(i)\n",
        "    observed = nb_classifier.classify(feats)\n",
        "    nbtestset[observed].add(i)\n",
        "print(\"UnigramNB Recall\")\n",
        "print('Bullying recall:', recall(nbtestset['Bullying'], nbrefset['Bullying']))\n",
        "print(\"\")"
      ],
      "execution_count": 91,
      "outputs": [
        {
          "output_type": "stream",
          "text": [
            "UnigramNB Recall\n",
            "Bullying recall: 0.6597938144329897\n",
            "\n"
          ],
          "name": "stdout"
        }
      ]
    },
    {
      "cell_type": "code",
      "metadata": {
        "id": "PUem6HFglr4W",
        "colab": {
          "base_uri": "https://localhost:8080/"
        },
        "outputId": "b5df05c4-98e8-40dc-c3b3-49285fd4da15"
      },
      "source": [
        "#find most informative features\n",
        "classifier.show_most_informative_features(n=15)"
      ],
      "execution_count": 92,
      "outputs": [
        {
          "output_type": "stream",
          "text": [
            "Most Informative Features\n",
            "                     low = True           Bullyi : Non-Bu =      8.1 : 1.0\n",
            "                   piece = True           Bullyi : Non-Bu =      7.2 : 1.0\n",
            "               worthless = True           Bullyi : Non-Bu =      6.1 : 1.0\n",
            "                 someone = True           Non-Bu : Bullyi =      5.1 : 1.0\n",
            "                    word = True           Bullyi : Non-Bu =      4.7 : 1.0\n",
            "               prejudice = True           Non-Bu : Bullyi =      4.7 : 1.0\n",
            "                      iq = True           Bullyi : Non-Bu =      4.6 : 1.0\n",
            "                     day = True           Non-Bu : Bullyi =      4.4 : 1.0\n",
            "                    fact = True           Non-Bu : Bullyi =      4.4 : 1.0\n",
            "                   first = True           Non-Bu : Bullyi =      4.4 : 1.0\n",
            "                feminism = True           Non-Bu : Bullyi =      4.4 : 1.0\n",
            "                anything = True           Non-Bu : Bullyi =      4.4 : 1.0\n",
            "                  retard = True           Bullyi : Non-Bu =      4.3 : 1.0\n",
            "                     amp = True           Non-Bu : Bullyi =      4.2 : 1.0\n",
            "                    shit = True           Bullyi : Non-Bu =      4.0 : 1.0\n"
          ],
          "name": "stdout"
        }
      ]
    },
    {
      "cell_type": "code",
      "metadata": {
        "id": "cbmqVRUgl7y-",
        "colab": {
          "base_uri": "https://localhost:8080/"
        },
        "outputId": "78846e94-82e4-4bed-e14b-f5a047fa6597"
      },
      "source": [
        "#Run Decision Tree for Unigrams to find recall\n",
        "\n",
        "from nltk.classify import DecisionTreeClassifier\n",
        "\n",
        "dt_classifier = DecisionTreeClassifier.train(train_set, \n",
        "                                             binary=True, \n",
        "                                             entropy_cutoff=0.8, \n",
        "                                             depth_cutoff=5, \n",
        "                                             support_cutoff=30)\n",
        "refset = collections.defaultdict(set)\n",
        "testset = collections.defaultdict(set)\n",
        " \n",
        "for i, (feats, label) in enumerate(test_set):\n",
        "    refset[label].add(i)\n",
        "    observed = dt_classifier.classify(feats)\n",
        "    testset[observed].add(i)\n",
        "print(\"UnigramDT Recall\")\n",
        "print('Bullying recall:', recall(testset['Bullying'], refset['Bullying']))\n",
        "print(\"\")"
      ],
      "execution_count": 93,
      "outputs": [
        {
          "output_type": "stream",
          "text": [
            "UnigramDT Recall\n",
            "Bullying recall: 0.7560975609756098\n",
            "\n"
          ],
          "name": "stdout"
        }
      ]
    },
    {
      "cell_type": "code",
      "metadata": {
        "id": "Kkst5rwpo5ME",
        "colab": {
          "base_uri": "https://localhost:8080/"
        },
        "outputId": "4aac20cd-d12c-4339-e94e-b80bc8293577"
      },
      "source": [
        "#Run Maxent Classifier for Unigrams\n",
        "from nltk.classify import MaxentClassifier\n",
        "\n",
        "logit_classifier = MaxentClassifier.train(train_set, algorithm='gis', trace=0, max_iter=10, min_lldelta=0.5)\n",
        "\n",
        "for i, (feats, label) in enumerate(test_set):\n",
        "    refset[label].add(i)\n",
        "    observed = logit_classifier.classify(feats)\n",
        "    testset[observed].add(i)\n",
        "print(\"UnigramsLogit Recall\")\n",
        "print('Bullying recall:', recall(testset['Bullying'], refset['Bullying']))\n",
        "print(\"\")"
      ],
      "execution_count": 94,
      "outputs": [
        {
          "output_type": "stream",
          "text": [
            "UnigramsLogit Recall\n",
            "Bullying recall: 0.6785714285714286\n",
            "\n"
          ],
          "name": "stdout"
        }
      ]
    },
    {
      "cell_type": "code",
      "metadata": {
        "id": "_iPOkhF8pF7r",
        "colab": {
          "base_uri": "https://localhost:8080/"
        },
        "outputId": "ecb03fd2-c2a8-4f50-f4d3-a1aee76c179b"
      },
      "source": [
        "#Run Support Vector Machine for Unigrams\n",
        "from nltk.classify import SklearnClassifier\n",
        "from sklearn.svm import SVC\n",
        "SVM_classifier = SklearnClassifier(SVC(), sparse=False).train(train_set)\n",
        " \n",
        "for i, (feats, label) in enumerate(test_set):\n",
        "    refset[label].add(i)\n",
        "    observed = SVM_classifier.classify(feats)\n",
        "    testset[observed].add(i)\n",
        "    \n",
        "print(\"UnigramSVM Recall\")\n",
        "print('Bullying recall:', recall(testset['Bullying'], refset['Bullying']))"
      ],
      "execution_count": 95,
      "outputs": [
        {
          "output_type": "stream",
          "text": [
            "UnigramSVM Recall\n",
            "Bullying recall: 0.6129032258064516\n"
          ],
          "name": "stdout"
        }
      ]
    },
    {
      "cell_type": "code",
      "metadata": {
        "id": "_pGnhVCjpysd"
      },
      "source": [
        "#Do the same thing with bigrams\n",
        "from nltk import bigrams, trigrams\n",
        "from nltk.collocations import BigramCollocationFinder\n",
        "from nltk.metrics import BigramAssocMeasures"
      ],
      "execution_count": 96,
      "outputs": []
    },
    {
      "cell_type": "code",
      "metadata": {
        "id": "c99DOO7jp6Iu"
      },
      "source": [
        "combined = zip(Tweet,Labels)"
      ],
      "execution_count": 97,
      "outputs": []
    },
    {
      "cell_type": "code",
      "metadata": {
        "id": "wDVbYARQp6Ox"
      },
      "source": [
        "#Bag of words for bigrams\n",
        "def bag_of_bigrams_words(words, score_fn=BigramAssocMeasures.chi_sq, n=200):\n",
        "    bigram_finder = BigramCollocationFinder.from_words(words)  \n",
        "    bigrams = bigram_finder.nbest(score_fn, n)  \n",
        "    return bag_of_words(bigrams)\n"
      ],
      "execution_count": 98,
      "outputs": []
    },
    {
      "cell_type": "code",
      "metadata": {
        "id": "ErQsZvDQp6jY"
      },
      "source": [
        "Final_Data2 =[]\n",
        "\n",
        "for z, e in combined:\n",
        "    bag_of_bigrams_words(z)\n",
        "    Final_Data2.append((bag_of_bigrams_words(z),e))"
      ],
      "execution_count": 99,
      "outputs": []
    },
    {
      "cell_type": "code",
      "metadata": {
        "colab": {
          "base_uri": "https://localhost:8080/"
        },
        "id": "LfTUAQ9qcoCw",
        "outputId": "370fd61b-3d3e-40c6-8e23-748a41e682be"
      },
      "source": [
        "import random\n",
        "random.shuffle(Final_Data2)\n",
        "print(len(Final_Data2))\n"
      ],
      "execution_count": 100,
      "outputs": [
        {
          "output_type": "stream",
          "text": [
            "960\n"
          ],
          "name": "stdout"
        }
      ]
    },
    {
      "cell_type": "code",
      "metadata": {
        "id": "P1wGVKGFcyr4"
      },
      "source": [
        "#split data again around 60/40\n",
        "\n",
        "train_set, test_set = Final_Data2[0:747], Final_Data2[747:]\n"
      ],
      "execution_count": 101,
      "outputs": []
    },
    {
      "cell_type": "code",
      "metadata": {
        "id": "4SvnM31bc1S1"
      },
      "source": [
        "#Naive Bayes for Bigrams\n",
        "import nltk\n",
        "import collections\n",
        "from nltk.metrics.scores import (accuracy, precision, recall, f_measure) \n",
        "from nltk import metrics\n",
        "\n",
        "\n",
        "\n",
        "refsets = collections. defaultdict(set)\n",
        "testsets = collections.defaultdict(set)\n",
        "\n",
        "classifier = nltk.NaiveBayesClassifier.train(train_set)\n",
        "\n",
        " \n",
        "for i, (feats, label) in enumerate(test_set):\n",
        "    refsets[label].add(i)\n",
        "    observed = classifier.classify(feats)\n",
        "    testsets[observed].add(i)\n",
        "    "
      ],
      "execution_count": 102,
      "outputs": []
    },
    {
      "cell_type": "code",
      "metadata": {
        "colab": {
          "base_uri": "https://localhost:8080/"
        },
        "id": "qpbWgKbic3sG",
        "outputId": "79394ebb-3fd7-4c5f-a07a-7d93820a71f4"
      },
      "source": [
        "#Accuracy\n",
        "\n",
        "print(\"Naive Bayes Performance with Bigrams \")    \n",
        "print(\"Accuracy:\",nltk.classify.accuracy(classifier, test_set))"
      ],
      "execution_count": 103,
      "outputs": [
        {
          "output_type": "stream",
          "text": [
            "Naive Bayes Performance with Bigrams \n",
            "Accuracy: 0.6244131455399061\n"
          ],
          "name": "stdout"
        }
      ]
    },
    {
      "cell_type": "code",
      "metadata": {
        "colab": {
          "base_uri": "https://localhost:8080/"
        },
        "id": "x7kgPD38dF5n",
        "outputId": "f5ba40f1-7729-41b8-9b5e-52dadca07897"
      },
      "source": [
        "#Informative Features for Bigrams\n",
        "classifier.show_most_informative_features(n=10)\n"
      ],
      "execution_count": 104,
      "outputs": [
        {
          "output_type": "stream",
          "text": [
            "Most Informative Features\n",
            "       ('piece', 'shit') = True           Bullyi : Non-Bu =      9.4 : 1.0\n",
            "           ('low', 'iq') = True           Bullyi : Non-Bu =      6.6 : 1.0\n",
            "  ('worthless', 'piece') = True           Bullyi : Non-Bu =      5.9 : 1.0\n",
            "        ('look', 'like') = True           Bullyi : Non-Bu =      4.7 : 1.0\n",
            "   ('fucking', 'retard') = True           Bullyi : Non-Bu =      3.8 : 1.0\n",
            "('theellenshow', '.kamalaharris') = True           Bullyi : Non-Bu =      2.1 : 1.0\n",
            "     ('asshole', 'like') = True           Bullyi : Non-Bu =      2.1 : 1.0\n",
            "          ('dumb', 'as') = True           Bullyi : Non-Bu =      2.1 : 1.0\n",
            "          ('fag', 'lol') = True           Bullyi : Non-Bu =      2.1 : 1.0\n",
            "      ('many', 'people') = True           Non-Bu : Bullyi =      1.8 : 1.0\n"
          ],
          "name": "stdout"
        }
      ]
    },
    {
      "cell_type": "code",
      "metadata": {
        "colab": {
          "base_uri": "https://localhost:8080/"
        },
        "id": "r9C8MsFXdP0Q",
        "outputId": "934a6cfd-0d4d-41e4-b782-4ae03a16104e"
      },
      "source": [
        "#Decision Tree for Bigrams\n",
        "from nltk.classify import DecisionTreeClassifier\n",
        "\n",
        "dt_classifier = DecisionTreeClassifier.train(train_set, \n",
        "                                             binary=True, \n",
        "                                             entropy_cutoff=0.8, \n",
        "                                             depth_cutoff=5, \n",
        "                                             support_cutoff=30)\n",
        "refset = collections.defaultdict(set)\n",
        "testset = collections.defaultdict(set)\n",
        " \n",
        "for i, (feats, label) in enumerate(test_set):\n",
        "    refset[label].add(i)\n",
        "    observed = dt_classifier.classify(feats)\n",
        "    testset[observed].add(i)\n",
        "print(\"BigramDT Recall\")\n",
        "print('Bullying recall:', recall(testset['Bullying'], refset['Bullying']))\n",
        "print(\"\")\n"
      ],
      "execution_count": 105,
      "outputs": [
        {
          "output_type": "stream",
          "text": [
            "BigramDT Recall\n",
            "Bullying recall: 0.8636363636363636\n",
            "\n"
          ],
          "name": "stdout"
        }
      ]
    },
    {
      "cell_type": "code",
      "metadata": {
        "colab": {
          "base_uri": "https://localhost:8080/"
        },
        "id": "Woh2QcyFdQQ_",
        "outputId": "e318ff47-4587-4752-8b96-4a0cf3feea8a"
      },
      "source": [
        "#Maxent Classifier for Bigrams\n",
        "from nltk.classify import MaxentClassifier\n",
        "\n",
        "logit_classifier = MaxentClassifier.train(train_set, algorithm='gis', trace=0, max_iter=10, min_lldelta=0.5)\n",
        "\n",
        "for i, (feats, label) in enumerate(test_set):\n",
        "    refset[label].add(i)\n",
        "    observed = logit_classifier.classify(feats)\n",
        "    testset[observed].add(i)\n",
        "print(\"BigramsLogit Recall\")\n",
        "print('Bullying recall:', recall(testset['Bullying'], refset['Bullying']))\n",
        "print(\"\")"
      ],
      "execution_count": 106,
      "outputs": [
        {
          "output_type": "stream",
          "text": [
            "BigramsLogit Recall\n",
            "Bullying recall: 0.6862745098039216\n",
            "\n"
          ],
          "name": "stdout"
        }
      ]
    },
    {
      "cell_type": "code",
      "metadata": {
        "colab": {
          "base_uri": "https://localhost:8080/"
        },
        "id": "yhXRaMmQdf5O",
        "outputId": "cab97718-4e9d-4dd9-e18f-646c8ff9ea2f"
      },
      "source": [
        "#Support Vecotr Machine for Bigrams\n",
        "from nltk.classify import SklearnClassifier\n",
        "from sklearn.svm import SVC\n",
        "SVM_classifier = SklearnClassifier(SVC(), sparse=False).train(train_set)\n",
        " \n",
        "for i, (feats, label) in enumerate(test_set):\n",
        "    refset[label].add(i)\n",
        "    observed = SVM_classifier.classify(feats)\n",
        "    testset[observed].add(i)\n",
        "    \n",
        "print(\"Bigrams Recall\")\n",
        "print('Bullying recall:', recall(testset['Bullying'], refset['Bullying']))"
      ],
      "execution_count": 107,
      "outputs": [
        {
          "output_type": "stream",
          "text": [
            "Bigrams Recall\n",
            "Bullying recall: 0.4666666666666667\n"
          ],
          "name": "stdout"
        }
      ]
    },
    {
      "cell_type": "code",
      "metadata": {
        "id": "4C0nZtpGdqyK"
      },
      "source": [
        "combined = zip(Tweet,Labels)"
      ],
      "execution_count": 108,
      "outputs": []
    },
    {
      "cell_type": "code",
      "metadata": {
        "id": "TTyNpzavdwh2"
      },
      "source": [
        "#Same thing with Trigrams\n",
        "from nltk import bigrams, trigrams\n",
        "from nltk.collocations import TrigramCollocationFinder\n",
        "from nltk.metrics import TrigramAssocMeasures"
      ],
      "execution_count": 109,
      "outputs": []
    },
    {
      "cell_type": "code",
      "metadata": {
        "id": "X6Xv5pftdyTG"
      },
      "source": [
        "#Bag of words for Trigrams\n",
        "def bag_of_trigrams_words(words, score_fn=TrigramAssocMeasures.chi_sq, n=200):\n",
        "    trigram_finder = TrigramCollocationFinder.from_words(words)  \n",
        "    trigrams = trigram_finder.nbest(score_fn, n)  \n",
        "    return bag_of_words(trigrams)"
      ],
      "execution_count": 110,
      "outputs": []
    },
    {
      "cell_type": "code",
      "metadata": {
        "colab": {
          "base_uri": "https://localhost:8080/"
        },
        "id": "TGq2aU8Ud90X",
        "outputId": "a57cd309-75e7-4f0f-bb51-2b73bac5ec51"
      },
      "source": [
        "#Final list for modeling\n",
        "Final_Data3 =[]\n",
        "\n",
        "for z, e in combined:\n",
        "    bag_of_trigrams_words(z)\n",
        "    Final_Data3.append((bag_of_trigrams_words(z),e))\n",
        "\n",
        "import random\n",
        "random.shuffle(Final_Data3)\n",
        "print(len(Final_Data3))\n"
      ],
      "execution_count": 111,
      "outputs": [
        {
          "output_type": "stream",
          "text": [
            "960\n"
          ],
          "name": "stdout"
        }
      ]
    },
    {
      "cell_type": "code",
      "metadata": {
        "id": "T588rvfDd99c"
      },
      "source": [
        "#60/40\n",
        "train_set, test_set = Final_Data3[0:747], Final_Data3[747:]"
      ],
      "execution_count": 112,
      "outputs": []
    },
    {
      "cell_type": "code",
      "metadata": {
        "id": "uVXMqL4Zd-Go"
      },
      "source": [
        "#Naive Bayes for Trigrams\n",
        "import nltk\n",
        "import collections\n",
        "from nltk.metrics.scores import (accuracy, precision, recall, f_measure) \n",
        "from nltk import metrics\n",
        "\n",
        "\n",
        "refsets = collections. defaultdict(set)\n",
        "testsets = collections.defaultdict(set)\n",
        "\n",
        "classifier = nltk.NaiveBayesClassifier.train(train_set)\n",
        "\n",
        " \n",
        "for i, (feats, label) in enumerate(test_set):\n",
        "    refsets[label].add(i)\n",
        "    observed = classifier.classify(feats)\n",
        "    testsets[observed].add(i)\n"
      ],
      "execution_count": 113,
      "outputs": []
    },
    {
      "cell_type": "code",
      "metadata": {
        "colab": {
          "base_uri": "https://localhost:8080/"
        },
        "id": "LGMH-UC-d-Ou",
        "outputId": "a44f2191-d63e-46ff-f201-cd5aa4301a32"
      },
      "source": [
        "#Accuracy\n",
        "print(\"Naive Bayes Performance with Trigrams \")    \n",
        "print(\"Accuracy:\",nltk.classify.accuracy(classifier, test_set))"
      ],
      "execution_count": 114,
      "outputs": [
        {
          "output_type": "stream",
          "text": [
            "Naive Bayes Performance with Trigrams \n",
            "Accuracy: 0.568075117370892\n"
          ],
          "name": "stdout"
        }
      ]
    },
    {
      "cell_type": "code",
      "metadata": {
        "colab": {
          "base_uri": "https://localhost:8080/"
        },
        "id": "ba0WuPoaeQJl",
        "outputId": "d7af0632-4716-4b4b-9f71-b7442189d368"
      },
      "source": [
        "#Metrics\n",
        "print('bullying precision:', precision(refsets['Bullying'], testsets['Bullying']))\n",
        "print('bullying recall:', recall(refsets['Bullying'], testsets['Bullying']))"
      ],
      "execution_count": 115,
      "outputs": [
        {
          "output_type": "stream",
          "text": [
            "bullying precision: 1.0\n",
            "bullying recall: 0.031578947368421054\n"
          ],
          "name": "stdout"
        }
      ]
    },
    {
      "cell_type": "code",
      "metadata": {
        "colab": {
          "base_uri": "https://localhost:8080/"
        },
        "id": "sRWGo2FUeQTm",
        "outputId": "b6ca1a21-b2ae-4074-c3ac-1a56cf8b6796"
      },
      "source": [
        "#Most informative features for Trigrams\n",
        "classifier.show_most_informative_features(n=10)"
      ],
      "execution_count": 116,
      "outputs": [
        {
          "output_type": "stream",
          "text": [
            "Most Informative Features\n",
            "('worthless', 'piece', 'shit') = True           Bullyi : Non-Bu =      5.7 : 1.0\n",
            "('idiot', \"'one\", 'need') = True           Bullyi : Non-Bu =      1.2 : 1.0\n",
            "('goose', 'stepping', 'nazi') = True           Bullyi : Non-Bu =      1.2 : 1.0\n",
            "('see', '.theatlantic', 'feign') = True           Bullyi : Non-Bu =      1.2 : 1.0\n",
            "('threat', 'idiot', \"'one\") = True           Bullyi : Non-Bu =      1.2 : 1.0\n",
            "('1', 'low-iq-arabists', 'trying') = True           Bullyi : Non-Bu =      1.2 : 1.0\n",
            "('.theatlantic', 'feign', 'objectivity') = True           Bullyi : Non-Bu =      1.2 : 1.0\n",
            "(\"don\\\\'t\", 'identify', 'w/arabism') = True           Bullyi : Non-Bu =      1.2 : 1.0\n",
            "('racist', 'minority', \"don\\\\'t\") = True           Bullyi : Non-Bu =      1.2 : 1.0\n",
            "('feign', 'objectivity', 'goose') = True           Bullyi : Non-Bu =      1.2 : 1.0\n"
          ],
          "name": "stdout"
        }
      ]
    },
    {
      "cell_type": "code",
      "metadata": {
        "colab": {
          "base_uri": "https://localhost:8080/"
        },
        "id": "N61NYMYoeQaU",
        "outputId": "c6b23812-6834-4000-82af-7e4de9d09d02"
      },
      "source": [
        "#Decision Tree for Trigrams\n",
        "from nltk.classify import DecisionTreeClassifier\n",
        "\n",
        "dt_classifier = DecisionTreeClassifier.train(train_set, \n",
        "                                             binary=True, \n",
        "                                             entropy_cutoff=0.8, \n",
        "                                             depth_cutoff=5, \n",
        "                                             support_cutoff=30)\n",
        "refset = collections.defaultdict(set)\n",
        "testset = collections.defaultdict(set)\n",
        " \n",
        "for i, (feats, label) in enumerate(test_set):\n",
        "    refset[label].add(i)\n",
        "    observed = dt_classifier.classify(feats)\n",
        "    testset[observed].add(i)\n",
        "print(\"TrigramDT Recall\")\n",
        "print('Bullying recall:', recall(testset['Bullying'], refset['Bullying']))\n",
        "print(\"\")\n"
      ],
      "execution_count": 117,
      "outputs": [
        {
          "output_type": "stream",
          "text": [
            "TrigramDT Recall\n",
            "Bullying recall: 1.0\n",
            "\n"
          ],
          "name": "stdout"
        }
      ]
    },
    {
      "cell_type": "code",
      "metadata": {
        "colab": {
          "base_uri": "https://localhost:8080/"
        },
        "id": "l_nqXNpHeQhC",
        "outputId": "9296689a-0d38-4776-d689-96e7b6cca40c"
      },
      "source": [
        "#Maxent Classifier for Trigrams\n",
        "from nltk.classify import MaxentClassifier\n",
        "\n",
        "logit_classifier = MaxentClassifier.train(train_set, algorithm='gis', trace=0, max_iter=10, min_lldelta=0.5)\n",
        "\n",
        "for i, (feats, label) in enumerate(test_set):\n",
        "    refset[label].add(i)\n",
        "    observed = logit_classifier.classify(feats)\n",
        "    testset[observed].add(i)\n",
        "print(\"TrigramsLogit Recall\")\n",
        "print('Bullying recall:', recall(testset['Bullying'], refset['Bullying']))\n",
        "print(\"\")"
      ],
      "execution_count": 118,
      "outputs": [
        {
          "output_type": "stream",
          "text": [
            "TrigramsLogit Recall\n",
            "Bullying recall: 1.0\n",
            "\n"
          ],
          "name": "stdout"
        }
      ]
    },
    {
      "cell_type": "code",
      "metadata": {
        "colab": {
          "base_uri": "https://localhost:8080/"
        },
        "id": "MZ0gk3eQe1Yd",
        "outputId": "eb8ea1d6-cce2-4e73-9f22-74302b32098d"
      },
      "source": [
        "#Support Vector Machine for Trigrams\n",
        "from nltk.classify import SklearnClassifier\n",
        "from sklearn.svm import SVC\n",
        "SVM_classifier = SklearnClassifier(SVC(), sparse=False).train(train_set)\n",
        " \n",
        "for i, (feats, label) in enumerate(test_set):\n",
        "    refset[label].add(i)\n",
        "    observed = SVM_classifier.classify(feats)\n",
        "    testset[observed].add(i)\n",
        "    \n",
        "print(\"Trigrams Recall\")\n",
        "print('Bullying recall:', recall(testset['Bullying'], refset['Bullying']))\n"
      ],
      "execution_count": 119,
      "outputs": [
        {
          "output_type": "stream",
          "text": [
            "Trigrams Recall\n",
            "Bullying recall: 0.45023696682464454\n"
          ],
          "name": "stdout"
        }
      ]
    },
    {
      "cell_type": "code",
      "metadata": {
        "id": "g4XDPlEFe7Or"
      },
      "source": [
        "combined = zip(Tweet,Labels)     "
      ],
      "execution_count": 120,
      "outputs": []
    },
    {
      "cell_type": "code",
      "metadata": {
        "id": "wtOSyX9Se7Tl"
      },
      "source": [
        "#Combining Unigrams, Bigrams, and Trigrams for (N=3) modeling\n",
        "\n",
        "# Import Bigram metrics - we will use these to identify the top 200 trigrams\n",
        "def bigrams_words(words, score_fn=BigramAssocMeasures.chi_sq,\n",
        "n=200):\n",
        "    bigram_finder = BigramCollocationFinder.from_words(words)\n",
        "    bigrams = bigram_finder.nbest(score_fn, n)\n",
        "    return bigrams\n",
        "\n",
        "from nltk.collocations import TrigramCollocationFinder\n"
      ],
      "execution_count": 121,
      "outputs": []
    },
    {
      "cell_type": "code",
      "metadata": {
        "id": "LjVLJLaIe7Z0"
      },
      "source": [
        "# Import Trigram metrics - we will use these to identify the top 200 trigrams\n",
        "from nltk.metrics import TrigramAssocMeasures\n",
        "\n",
        "def trigrams_words(words, score_fn=TrigramAssocMeasures.chi_sq,\n",
        "n=200):\n",
        "    trigram_finder = TrigramCollocationFinder.from_words(words)\n",
        "    trigrams = trigram_finder.nbest(score_fn, n)\n",
        "    return trigrams"
      ],
      "execution_count": 122,
      "outputs": []
    },
    {
      "cell_type": "code",
      "metadata": {
        "id": "TgoYnTu4fH0-"
      },
      "source": [
        "#Combined\n",
        "def bag_of_Ngrams_words(words):\n",
        "    bigramBag = bigrams_words(words)\n",
        "    \n",
        "    #The following two for loops convert tuple into string\n",
        "    for b in range(0,len(bigramBag)):\n",
        "        bigramBag[b]=' '.join(bigramBag[b])\n",
        "   \n",
        "    trigramBag = trigrams_words(words)\n",
        "    for t in range(0,len(trigramBag)):\n",
        "        trigramBag[t]=' '.join(trigramBag[t])\n",
        "        #New bag of words\n",
        "\n",
        "    return bag_of_words(trigramBag + bigramBag + words)\n",
        "\n",
        "\n"
      ],
      "execution_count": 123,
      "outputs": []
    },
    {
      "cell_type": "code",
      "metadata": {
        "id": "Kbu9ISV9fSB1"
      },
      "source": [
        "Final_Data4 =[]\n",
        "\n",
        "for z, e in combined:\n",
        "    bag_of_Ngrams_words(z)\n",
        "    Final_Data4.append((bag_of_Ngrams_words(z),e))"
      ],
      "execution_count": 124,
      "outputs": []
    },
    {
      "cell_type": "code",
      "metadata": {
        "colab": {
          "base_uri": "https://localhost:8080/"
        },
        "id": "Mk1kwHUmf167",
        "outputId": "96a18aba-d4d9-4e3f-e0db-2368ba7a3e2a"
      },
      "source": [
        "#Naive Bayes for Ngrams\n",
        "import random\n",
        "random.shuffle(Final_Data4)\n",
        "print(len(Final_Data4))\n",
        "\n",
        "train_set, test_set = Final_Data4[0:747], Final_Data4[747:]\n",
        "\n",
        "import nltk\n",
        "import collections\n",
        "from nltk.metrics.scores import (accuracy, precision, recall, f_measure) \n",
        "from nltk import metrics\n",
        "\n",
        "\n",
        "refsets = collections. defaultdict(set)\n",
        "testsets = collections.defaultdict(set)\n",
        "\n",
        "classifier = nltk.NaiveBayesClassifier.train(train_set)\n",
        "\n",
        " \n",
        "for i, (feats, label) in enumerate(test_set):\n",
        "    refsets[label].add(i)\n",
        "    observed = classifier.classify(feats)\n",
        "    testsets[observed].add(i)"
      ],
      "execution_count": 125,
      "outputs": [
        {
          "output_type": "stream",
          "text": [
            "960\n"
          ],
          "name": "stdout"
        }
      ]
    },
    {
      "cell_type": "code",
      "metadata": {
        "colab": {
          "base_uri": "https://localhost:8080/"
        },
        "id": "hHNcMf9yf-pl",
        "outputId": "a17a9dd7-fb51-47e9-8834-6141b8cfa378"
      },
      "source": [
        "#Accuracy\n",
        "print(\"Naive Bayes Performance with Ngrams \")    \n",
        "print(\"Accuracy:\",nltk.classify.accuracy(classifier, test_set))"
      ],
      "execution_count": 126,
      "outputs": [
        {
          "output_type": "stream",
          "text": [
            "Naive Bayes Performance with Ngrams \n",
            "Accuracy: 0.6948356807511737\n"
          ],
          "name": "stdout"
        }
      ]
    },
    {
      "cell_type": "code",
      "metadata": {
        "colab": {
          "base_uri": "https://localhost:8080/"
        },
        "id": "3hypHqtWf-sD",
        "outputId": "db9341e3-a213-48f5-907a-d7ad2cd13614"
      },
      "source": [
        "#Informative features for Ngrams\n",
        "classifier.show_most_informative_features(n=10)"
      ],
      "execution_count": 127,
      "outputs": [
        {
          "output_type": "stream",
          "text": [
            "Most Informative Features\n",
            "              piece shit = True           Bullyi : Non-Bu =     13.5 : 1.0\n",
            "               worthless = True           Bullyi : Non-Bu =     11.9 : 1.0\n",
            "         worthless piece = True           Bullyi : Non-Bu =      8.6 : 1.0\n",
            "                 someone = True           Non-Bu : Bullyi =      8.4 : 1.0\n",
            "    worthless piece shit = True           Bullyi : Non-Bu =      7.8 : 1.0\n",
            "                  low iq = True           Bullyi : Non-Bu =      7.5 : 1.0\n",
            "                   piece = True           Bullyi : Non-Bu =      6.5 : 1.0\n",
            "                     low = True           Bullyi : Non-Bu =      6.0 : 1.0\n",
            "                   mouth = True           Bullyi : Non-Bu =      5.3 : 1.0\n",
            "                      ur = True           Bullyi : Non-Bu =      5.3 : 1.0\n"
          ],
          "name": "stdout"
        }
      ]
    },
    {
      "cell_type": "code",
      "metadata": {
        "colab": {
          "base_uri": "https://localhost:8080/"
        },
        "id": "mKMT1t0Mf-yo",
        "outputId": "4e7fbfe6-07d2-47c2-b5d6-a7ba16c2d5ca"
      },
      "source": [
        "print('bullying precision:', precision(refsets['Bullying'], testsets['Bullying']))\n",
        "print('bullying recall:', recall(refsets['Bullying'], testsets['Bullying']))"
      ],
      "execution_count": 128,
      "outputs": [
        {
          "output_type": "stream",
          "text": [
            "bullying precision: 0.6194690265486725\n",
            "bullying recall: 0.7608695652173914\n"
          ],
          "name": "stdout"
        }
      ]
    },
    {
      "cell_type": "code",
      "metadata": {
        "colab": {
          "base_uri": "https://localhost:8080/"
        },
        "id": "0NHqdBhgf-5p",
        "outputId": "d1a4ca26-4f75-4a1d-b040-31e86c5d13af"
      },
      "source": [
        "#Decision Tree for Ngrams\n",
        "from nltk.classify import DecisionTreeClassifier\n",
        "\n",
        "dt_classifier = DecisionTreeClassifier.train(train_set, \n",
        "                                             binary=True, \n",
        "                                             entropy_cutoff=0.8, \n",
        "                                             depth_cutoff=5, \n",
        "                                             support_cutoff=30)\n",
        "refset = collections.defaultdict(set)\n",
        "testset = collections.defaultdict(set)\n",
        " \n",
        "for i, (feats, label) in enumerate(test_set):\n",
        "    refset[label].add(i)\n",
        "    observed = dt_classifier.classify(feats)\n",
        "    testset[observed].add(i)\n",
        "print(\"NgramDT Recall\")\n",
        "print('Bullying recall:', recall(testset['Bullying'], refset['Bullying']))\n",
        "print(\"\")"
      ],
      "execution_count": 129,
      "outputs": [
        {
          "output_type": "stream",
          "text": [
            "NgramDT Recall\n",
            "Bullying recall: 0.6944444444444444\n",
            "\n"
          ],
          "name": "stdout"
        }
      ]
    },
    {
      "cell_type": "code",
      "metadata": {
        "colab": {
          "base_uri": "https://localhost:8080/"
        },
        "id": "-nrGC9a8f-85",
        "outputId": "7425a1db-ee0a-43b8-a66a-c1e7d5d4180f"
      },
      "source": [
        "#Maxent Classifier, Logistic Regression for Ngrams\n",
        "from nltk.classify import MaxentClassifier\n",
        "\n",
        "logit_classifier = MaxentClassifier.train(train_set, algorithm='gis', trace=0, max_iter=10, min_lldelta=0.5)\n",
        "\n",
        "for i, (feats, label) in enumerate(test_set):\n",
        "    refset[label].add(i)\n",
        "    observed = logit_classifier.classify(feats)\n",
        "    testset[observed].add(i)\n",
        "print(\"NgramsLogit Recall\")\n",
        "print('Bullying recall:', recall(testset['Bullying'], refset['Bullying']))\n",
        "print(\"\")"
      ],
      "execution_count": 130,
      "outputs": [
        {
          "output_type": "stream",
          "text": [
            "NgramsLogit Recall\n",
            "Bullying recall: 0.631578947368421\n",
            "\n"
          ],
          "name": "stdout"
        }
      ]
    },
    {
      "cell_type": "code",
      "metadata": {
        "colab": {
          "base_uri": "https://localhost:8080/"
        },
        "id": "tEV2rOBcf_BH",
        "outputId": "2a42d2f4-0135-459c-882d-d8086c672918"
      },
      "source": [
        "#Support Vector Machine for Ngrams\n",
        "from nltk.classify import SklearnClassifier\n",
        "from sklearn.svm import SVC\n",
        "SVM_classifier = SklearnClassifier(SVC(), sparse=False).train(train_set)\n",
        " \n",
        "for i, (feats, label) in enumerate(test_set):\n",
        "    refset[label].add(i)\n",
        "    observed = SVM_classifier.classify(feats)\n",
        "    testset[observed].add(i)\n",
        "    \n",
        "print(\"Ngrams Recall\")\n",
        "print('Bullying recall:', recall(testset['Bullying'], refset['Bullying']))"
      ],
      "execution_count": 131,
      "outputs": [
        {
          "output_type": "stream",
          "text": [
            "Ngrams Recall\n",
            "Bullying recall: 0.4635416666666667\n"
          ],
          "name": "stdout"
        }
      ]
    },
    {
      "cell_type": "code",
      "metadata": {
        "colab": {
          "base_uri": "https://localhost:8080/"
        },
        "id": "Ya23TvuLf_Fq",
        "outputId": "00482754-90f8-45b0-8b23-9e151be0dfcd"
      },
      "source": [
        "#Printing with more measures, example below\n",
        "train_set, test_set = Final_Data[0:747], Final_Data[747:]\n",
        "\n",
        "import nltk\n",
        "import collections\n",
        "from nltk.metrics.scores import (accuracy, precision, recall, f_measure)\n",
        "nb_classifier = nltk.NaiveBayesClassifier.train(train_set)\n",
        "nb_classifier.show_most_informative_features(10)\n",
        "\n",
        "from nltk.classify.util import accuracy\n",
        "print(accuracy(nb_classifier, test_set))\n",
        "\n",
        "refsets = collections.defaultdict(set)\n",
        "testsets = collections.defaultdict(set)\n",
        "    \n",
        "for i, (Final_Data, label) in enumerate(test_set):\n",
        "    refsets[label].add(i)\n",
        "    observed = nb_classifier.classify(Final_Data)\n",
        "    testsets[observed].add(i)\n",
        "    \n",
        "print('bullying precision:', precision(refsets['Bullying'], testsets['Bullying']))\n",
        "print('bullying recall:', recall(refsets['Bullying'], testsets['Bullying']))\n",
        "print('bullying F-measure:', f_measure(refsets['Bullying'], testsets['Bullying']))\n",
        "print('not-bullying precision:', precision(refsets['Non-Bullying'], testsets['Non-Bullying']))\n",
        "print('not-bullying recall:', recall(refsets['Non-Bullying'], testsets['Non-Bullying']))\n",
        "print('not-bullying F-measure:', f_measure(refsets['Non-Bullying'], testsets['Non-Bullying']))\n"
      ],
      "execution_count": 132,
      "outputs": [
        {
          "output_type": "stream",
          "text": [
            "Most Informative Features\n",
            "                     low = True           Bullyi : Non-Bu =      8.1 : 1.0\n",
            "                   piece = True           Bullyi : Non-Bu =      7.2 : 1.0\n",
            "               worthless = True           Bullyi : Non-Bu =      6.1 : 1.0\n",
            "                 someone = True           Non-Bu : Bullyi =      5.1 : 1.0\n",
            "                    fact = True           Non-Bu : Bullyi =      4.9 : 1.0\n",
            "                    word = True           Bullyi : Non-Bu =      4.8 : 1.0\n",
            "               prejudice = True           Non-Bu : Bullyi =      4.7 : 1.0\n",
            "                      iq = True           Bullyi : Non-Bu =      4.6 : 1.0\n",
            "                     day = True           Non-Bu : Bullyi =      4.4 : 1.0\n",
            "                   first = True           Non-Bu : Bullyi =      4.4 : 1.0\n",
            "0.6666666666666666\n",
            "bullying precision: 0.6597938144329897\n",
            "bullying recall: 0.6274509803921569\n",
            "bullying F-measure: 0.6432160804020101\n",
            "not-bullying precision: 0.6724137931034483\n",
            "not-bullying recall: 0.7027027027027027\n",
            "not-bullying F-measure: 0.6872246696035242\n"
          ],
          "name": "stdout"
        }
      ]
    }
  ]
}