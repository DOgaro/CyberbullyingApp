{
  "nbformat": 4,
  "nbformat_minor": 0,
  "metadata": {
    "colab": {
      "name": "TF-IDF Test.ipynb",
      "provenance": []
    },
    "kernelspec": {
      "name": "python3",
      "display_name": "Python 3"
    }
  },
  "cells": [
    {
      "cell_type": "code",
      "metadata": {
        "id": "7NtQX0UyNY0C"
      },
      "source": [
        "from sklearn.feature_extraction.text import TfidfVectorizer\r\n",
        "from sklearn.feature_extraction.text import TfidfTransformer\r\n",
        "from sklearn.feature_extraction.text import CountVectorizer\r\n",
        "from sklearn.neighbors import KNeighborsClassifier\r\n",
        "from sklearn.naive_bayes import MultinomialNB\r\n",
        "from sklearn.pipeline import Pipeline\r\n",
        "from sklearn.model_selection import cross_val_score\r\n",
        "from sklearn.model_selection import train_test_split\r\n",
        "from sklearn.model_selection import ShuffleSplit\r\n",
        "from sklearn.model_selection import learning_curve\r\n",
        "from sklearn.model_selection import cross_val_predict\r\n",
        "from sklearn.feature_selection import mutual_info_classif\r\n",
        "from sklearn.metrics import roc_curve, auc\r\n",
        "from sklearn.metrics import classification_report\r\n",
        "from sklearn.svm import SVC\r\n",
        "from sklearn import metrics\r\n",
        "\r\n",
        "from nltk.corpus import stopwords \r\n",
        "from nltk.tokenize import word_tokenize\r\n",
        "import string \r\n",
        "from nltk.stem import WordNetLemmatizer"
      ],
      "execution_count": 13,
      "outputs": []
    },
    {
      "cell_type": "code",
      "metadata": {
        "id": "F7nfG-6YNeoZ"
      },
      "source": [
        "import pandas as pd\r\n",
        "import matplotlib.pyplot as plt\r\n",
        "import numpy as np\r\n",
        "import random\r\n",
        "import string"
      ],
      "execution_count": 14,
      "outputs": []
    },
    {
      "cell_type": "code",
      "metadata": {
        "colab": {
          "resources": {
            "http://localhost:8080/nbextensions/google.colab/files.js": {
              "data": "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",
              "ok": true,
              "headers": [
                [
                  "content-type",
                  "application/javascript"
                ]
              ],
              "status": 200,
              "status_text": "OK"
            }
          },
          "base_uri": "https://localhost:8080/",
          "height": 77
        },
        "id": "S1MDpJsYN4ZM",
        "outputId": "5bbc4b34-e830-4c82-9fdb-3e0421376a74"
      },
      "source": [
        "from google.colab import files\r\n",
        "upload=files.upload() # LOADING DATA FROM OUR LOCAL MACHINE"
      ],
      "execution_count": 15,
      "outputs": [
        {
          "output_type": "display_data",
          "data": {
            "text/html": [
              "\n",
              "     <input type=\"file\" id=\"files-f82f25e5-ff24-4bf3-911b-4adb98a58b27\" name=\"files[]\" multiple disabled\n",
              "        style=\"border:none\" />\n",
              "     <output id=\"result-f82f25e5-ff24-4bf3-911b-4adb98a58b27\">\n",
              "      Upload widget is only available when the cell has been executed in the\n",
              "      current browser session. Please rerun this cell to enable.\n",
              "      </output>\n",
              "      <script src=\"/nbextensions/google.colab/files.js\"></script> "
            ],
            "text/plain": [
              "<IPython.core.display.HTML object>"
            ]
          },
          "metadata": {
            "tags": []
          }
        },
        {
          "output_type": "stream",
          "text": [
            "Saving dataset.csv to dataset (1).csv\n"
          ],
          "name": "stdout"
        }
      ]
    },
    {
      "cell_type": "code",
      "metadata": {
        "id": "bMqQUr5nNeyA"
      },
      "source": [
        "def readcsv():\r\n",
        "    df=pd.read_csv(\"dataset.csv\",)#read labelled tweets\r\n",
        "    #df2=df.reindex(np.random.permutation(df.index))\r\n",
        "    X=df.text\r\n",
        "    y=df.label\r\n",
        "    return X, y"
      ],
      "execution_count": 16,
      "outputs": []
    },
    {
      "cell_type": "code",
      "metadata": {
        "colab": {
          "base_uri": "https://localhost:8080/",
          "height": 206
        },
        "id": "qKdujcpuNe6p",
        "outputId": "88fddb3e-d775-499e-cf98-40a0d0e443cc"
      },
      "source": [
        "# READING THE DATASET AND DISPLAYING ITS CONTENTS\r\n",
        "df = pd.read_csv('dataset.csv', header=0)\r\n",
        "df.head()"
      ],
      "execution_count": 17,
      "outputs": [
        {
          "output_type": "execute_result",
          "data": {
            "text/html": [
              "<div>\n",
              "<style scoped>\n",
              "    .dataframe tbody tr th:only-of-type {\n",
              "        vertical-align: middle;\n",
              "    }\n",
              "\n",
              "    .dataframe tbody tr th {\n",
              "        vertical-align: top;\n",
              "    }\n",
              "\n",
              "    .dataframe thead th {\n",
              "        text-align: right;\n",
              "    }\n",
              "</style>\n",
              "<table border=\"1\" class=\"dataframe\">\n",
              "  <thead>\n",
              "    <tr style=\"text-align: right;\">\n",
              "      <th></th>\n",
              "      <th>text</th>\n",
              "      <th>TextLabel</th>\n",
              "      <th>label</th>\n",
              "    </tr>\n",
              "  </thead>\n",
              "  <tbody>\n",
              "    <tr>\n",
              "      <th>0</th>\n",
              "      <td>.omg why are poc wearing fugly blue contacts s...</td>\n",
              "      <td>Non-Bullying</td>\n",
              "      <td>0</td>\n",
              "    </tr>\n",
              "    <tr>\n",
              "      <th>1</th>\n",
              "      <td>.Sorry but most of the runners popular right n...</td>\n",
              "      <td>Non-Bullying</td>\n",
              "      <td>0</td>\n",
              "    </tr>\n",
              "    <tr>\n",
              "      <th>2</th>\n",
              "      <td>Was there always this much hatred and prejudic...</td>\n",
              "      <td>Non-Bullying</td>\n",
              "      <td>0</td>\n",
              "    </tr>\n",
              "    <tr>\n",
              "      <th>3</th>\n",
              "      <td>The fray, seattle, pride and prejudice, books,...</td>\n",
              "      <td>Non-Bullying</td>\n",
              "      <td>0</td>\n",
              "    </tr>\n",
              "    <tr>\n",
              "      <th>4</th>\n",
              "      <td>We must not stand for prejudice and discrimina...</td>\n",
              "      <td>Non-Bullying</td>\n",
              "      <td>0</td>\n",
              "    </tr>\n",
              "  </tbody>\n",
              "</table>\n",
              "</div>"
            ],
            "text/plain": [
              "                                                text     TextLabel  label\n",
              "0  .omg why are poc wearing fugly blue contacts s...  Non-Bullying      0\n",
              "1  .Sorry but most of the runners popular right n...  Non-Bullying      0\n",
              "2  Was there always this much hatred and prejudic...  Non-Bullying      0\n",
              "3  The fray, seattle, pride and prejudice, books,...  Non-Bullying      0\n",
              "4  We must not stand for prejudice and discrimina...  Non-Bullying      0"
            ]
          },
          "metadata": {
            "tags": []
          },
          "execution_count": 17
        }
      ]
    },
    {
      "cell_type": "code",
      "metadata": {
        "id": "EmpzvADOONto"
      },
      "source": [
        "def createSVM(X,y):\r\n",
        "    svm_clf=Pipeline([('vect',CountVectorizer(max_df=0.7)),('tfidf',TfidfTransformer()),('svm',SVC(kernel=\"linear\",C=1))])\r\n",
        "    svm_clf=svm_clf.fit(X,y)\r\n",
        "    return svm_clf"
      ],
      "execution_count": 18,
      "outputs": []
    },
    {
      "cell_type": "code",
      "metadata": {
        "id": "qjK0tSOSON3u"
      },
      "source": [
        "def createNB(X,y):\r\n",
        "    nb_clf=Pipeline([('vect',CountVectorizer()),('tfidf',TfidfTransformer()),('nb',MultinomialNB())])\r\n",
        "    nb_clf=nb_clf.fit(X,y)\r\n",
        "    return nb_clf"
      ],
      "execution_count": 19,
      "outputs": []
    },
    {
      "cell_type": "code",
      "metadata": {
        "id": "6oEgOLclON6x"
      },
      "source": [
        "def drawrocSVM(y_test,y_pred):\r\n",
        "    fpr,tpr,threshold=roc_curve(y_test,y_pred)\r\n",
        "    print(\"Drawing\")\r\n",
        "    roc_auc=auc(fpr,tpr)\r\n",
        "    plt.title('Support Vector Machine Accuracy')\r\n",
        "    plt.plot(fpr,tpr,'b',label='SVM AUC = %0.2f'%roc_auc,color='b')\r\n",
        "    plt.legend(loc='lower right')\r\n",
        "    plt.plot([0,1],[0,1],'r--')\r\n",
        "    plt.xlim([-0.1,1.2])\r\n",
        "    plt.ylim([-0.1,1.2])\r\n",
        "    plt.ylabel('True Positive Rate')\r\n",
        "    plt.xlabel('False Positive Rate')\r\n",
        "    plt.show()"
      ],
      "execution_count": 20,
      "outputs": []
    },
    {
      "cell_type": "code",
      "metadata": {
        "id": "4jMGCbweON_N"
      },
      "source": [
        "def drawrocNB(y_test,y_pred):\r\n",
        "    fpr,tpr,threshold=roc_curve(y_test,y_pred)\r\n",
        "    print(\"Drawing\")\r\n",
        "    roc_auc=auc(fpr,tpr)\r\n",
        "    plt.title('Naive Bayes Accuracy')\r\n",
        "    plt.plot(fpr,tpr,'b',label='NB AUC = %0.2f'%roc_auc,color='r')\r\n",
        "    plt.legend(loc='lower right')\r\n",
        "    plt.plot([0,1],[0,1],'r--')\r\n",
        "    plt.xlim([-0.1,1.2])\r\n",
        "    plt.ylim([-0.1,1.2])\r\n",
        "    plt.ylabel('True Positive Rate')\r\n",
        "    plt.xlabel('False Positive Rate')\r\n",
        "    plt.show()"
      ],
      "execution_count": 21,
      "outputs": []
    },
    {
      "cell_type": "code",
      "metadata": {
        "id": "_-gf18HaOdDr"
      },
      "source": [
        "def drawrocKNN(y_test,y_pred):\r\n",
        "    fpr,tpr,threshold=roc_curve(y_test,y_pred)\r\n",
        "    print(\"Drawing\")\r\n",
        "    roc_auc=auc(fpr,tpr)\r\n",
        "    plt.title('KNN Accuracy')\r\n",
        "    plt.plot(fpr,tpr,'b',label='KNN AUC = %0.2f'%\r\n",
        "    roc_auc,color='g')\r\n",
        "    plt.legend(loc='lower right')\r\n",
        "    plt.plot([0,1],[0,1],'r--')\r\n",
        "    plt.xlim([-0.1,1.2])\r\n",
        "    plt.ylim([-0.1,1.2])\r\n",
        "    plt.ylabel('True Positive Rate')\r\n",
        "    plt.xlabel('False Positive Rate')\r\n",
        "    plt.show()"
      ],
      "execution_count": 22,
      "outputs": []
    },
    {
      "cell_type": "code",
      "metadata": {
        "colab": {
          "base_uri": "https://localhost:8080/",
          "height": 556
        },
        "id": "ywCv2XReOdHB",
        "outputId": "8f4ed582-a314-43a8-f099-44cfdb9d3cee"
      },
      "source": [
        "def experiment1(X,y): # Support Vector Machine Classifier\r\n",
        "    X_train,X_test,y_train,y_test=train_test_split(X,y,test_size=0.3,random_state=0)\r\n",
        "    svm=Pipeline([('vect',CountVectorizer()),('tfidf',TfidfTransformer()),('svm',SVC(kernel=\"linear\",C=1))])\r\n",
        "    svm=svm.fit(X_train,y_train)\r\n",
        "    ypred=svm.predict(X_test)\r\n",
        "    print(\"SVM metrics\")\r\n",
        "    print(metrics.accuracy_score(y_test,ypred))\r\n",
        "    print(metrics.classification_report(y_test,ypred))\r\n",
        "    drawrocSVM(y_test,ypred)\r\n",
        "def main():\r\n",
        "    print(\"Support Vector Machine Classifier\")\r\n",
        "    X,y=readcsv()\r\n",
        "    print(\"Evaluation\")\r\n",
        "    experiment1(X,y)#calling the Support Vector Machine\r\n",
        "    \r\n",
        "if __name__==\"__main__\":\r\n",
        "    main()"
      ],
      "execution_count": 23,
      "outputs": [
        {
          "output_type": "stream",
          "text": [
            "Support Vector Machine Classifier\n",
            "Evaluation\n",
            "SVM metrics\n",
            "0.7163636363636363\n",
            "              precision    recall  f1-score   support\n",
            "\n",
            "           0       0.71      0.77      0.74       145\n",
            "           1       0.72      0.65      0.69       130\n",
            "\n",
            "    accuracy                           0.72       275\n",
            "   macro avg       0.72      0.71      0.71       275\n",
            "weighted avg       0.72      0.72      0.72       275\n",
            "\n",
            "Drawing\n"
          ],
          "name": "stdout"
        },
        {
          "output_type": "display_data",
          "data": {
            "image/png": "[encoded data removed]",
            "text/plain": [
              "<Figure size 432x288 with 1 Axes>"
            ]
          },
          "metadata": {
            "tags": [],
            "needs_background": "light"
          }
        }
      ]
    },
    {
      "cell_type": "code",
      "metadata": {
        "colab": {
          "base_uri": "https://localhost:8080/",
          "height": 556
        },
        "id": "SQ9VRpnPOdKd",
        "outputId": "6ab523de-1436-4cae-ef11-ab5fe3c5206a"
      },
      "source": [
        "def experiment1(X,y): # Naive Bayes Classifier\r\n",
        "    X_train,X_test,y_train,y_test=train_test_split(X,y,test_size=0.3,random_state=0)    \r\n",
        "    nb=Pipeline([('vect',CountVectorizer(ngram_range=(1,2))),('tfidf',TfidfTransformer()),('nb',MultinomialNB())])\r\n",
        "    nb=nb.fit(X_train,y_train)\r\n",
        "    yprednb=nb.predict(X_test)\r\n",
        "    print(\"NB Metrics\")\r\n",
        "    print(metrics.accuracy_score(y_test,yprednb))\r\n",
        "    print(metrics.classification_report(y_test,yprednb))\r\n",
        "    drawrocNB(y_test,yprednb)\r\n",
        "def main():\r\n",
        "    print(\"Naive Bayes Classifier\")\r\n",
        "    X,y=readcsv()\r\n",
        "    print(\"Evaluation\")\r\n",
        "    experiment1(X,y)#calling Naive Bayes Classifier\r\n",
        "    \r\n",
        "if __name__==\"__main__\":\r\n",
        "    main()"
      ],
      "execution_count": 24,
      "outputs": [
        {
          "output_type": "stream",
          "text": [
            "Naive Bayes Classifier\n",
            "Evaluation\n",
            "NB Metrics\n",
            "0.72\n",
            "              precision    recall  f1-score   support\n",
            "\n",
            "           0       0.70      0.81      0.75       145\n",
            "           1       0.74      0.62      0.68       130\n",
            "\n",
            "    accuracy                           0.72       275\n",
            "   macro avg       0.72      0.71      0.72       275\n",
            "weighted avg       0.72      0.72      0.72       275\n",
            "\n",
            "Drawing\n"
          ],
          "name": "stdout"
        },
        {
          "output_type": "display_data",
          "data": {
            "image/png": "[encoded data removed]",
            "text/plain": [
              "<Figure size 432x288 with 1 Axes>"
            ]
          },
          "metadata": {
            "tags": [],
            "needs_background": "light"
          }
        }
      ]
    },
    {
      "cell_type": "code",
      "metadata": {
        "colab": {
          "base_uri": "https://localhost:8080/",
          "height": 556
        },
        "id": "3nhAMIfgOdNN",
        "outputId": "af2b7d05-3275-4576-ade1-36d8fe41e13c"
      },
      "source": [
        "def experiment1(X,y): # KNN Classifier\r\n",
        "    X_train,X_test,y_train,y_test=train_test_split(X,y,test_size=0.3,random_state=0)\r\n",
        "    knn=Pipeline([('vect',CountVectorizer()),('tfidf',TfidfTransformer()),('knn',KNeighborsClassifier())])\r\n",
        "    knn=knn.fit(X_train,y_train)\r\n",
        "    ypredknn=knn.predict(X_test)\r\n",
        "    print(\"KNN evaluation\")\r\n",
        "    print(metrics.accuracy_score(y_test,ypredknn))\r\n",
        "    print(metrics.classification_report(y_test,ypredknn))\r\n",
        "    drawrocKNN(y_test,ypredknn)\r\n",
        "def main():\r\n",
        "    print(\"KNN Classifier\")\r\n",
        "    X,y=readcsv()\r\n",
        "    print(\"Evaluation\")\r\n",
        "    experiment1(X,y)#calling KNN Classifier\r\n",
        "    \r\n",
        "if __name__==\"__main__\":\r\n",
        "    main()\r\n"
      ],
      "execution_count": 25,
      "outputs": [
        {
          "output_type": "stream",
          "text": [
            "KNN Classifier\n",
            "Evaluation\n",
            "KNN evaluation\n",
            "0.6218181818181818\n",
            "              precision    recall  f1-score   support\n",
            "\n",
            "           0       0.70      0.50      0.58       145\n",
            "           1       0.58      0.76      0.66       130\n",
            "\n",
            "    accuracy                           0.62       275\n",
            "   macro avg       0.64      0.63      0.62       275\n",
            "weighted avg       0.64      0.62      0.62       275\n",
            "\n",
            "Drawing\n"
          ],
          "name": "stdout"
        },
        {
          "output_type": "display_data",
          "data": {
            "image/png": "[encoded data removed]",
            "text/plain": [
              "<Figure size 432x288 with 1 Axes>"
            ]
          },
          "metadata": {
            "tags": [],
            "needs_background": "light"
          }
        }
      ]
    },
    {
      "cell_type": "code",
      "metadata": {
        "colab": {
          "base_uri": "https://localhost:8080/"
        },
        "id": "owcNKYYJOdQw",
        "outputId": "88f93121-b2f4-42fd-fd83-beecff3aea1e"
      },
      "source": [
        "def experiment2(X,y): # Different features with Support Vector Machine\r\n",
        "    X_train,X_test,y_train,y_test=train_test_split(X,y,test_size=0.3)\r\n",
        "    svm=createSVM(X_train,y_train)\r\n",
        "    y_pred=(svm.predict(X_test))\r\n",
        "    print(\"Original Accuracy: Unigram with tf-idf\")\r\n",
        "    print(metrics.confusion_matrix(y_test,y_pred))\r\n",
        "    print(metrics.accuracy_score(y_test,y_pred))\r\n",
        "    print(metrics.classification_report(y_test,y_pred))\r\n",
        "    stop=[\"haha\",\"lol\",\"lmao\"]\r\n",
        "def main():\r\n",
        "    print(\"Support Vector Machine Classifier\")\r\n",
        "    X,y=readcsv()\r\n",
        "    print(\"Evaluation\")\r\n",
        "    experiment2(X,y)#calling Support Vector Machine Classifier\r\n",
        "    \r\n",
        "if __name__==\"__main__\":\r\n",
        "    main()"
      ],
      "execution_count": 26,
      "outputs": [
        {
          "output_type": "stream",
          "text": [
            "Support Vector Machine Classifier\n",
            "Evaluation\n",
            "Original Accuracy: Unigram with tf-idf\n",
            "[[118  32]\n",
            " [ 35  90]]\n",
            "0.7563636363636363\n",
            "              precision    recall  f1-score   support\n",
            "\n",
            "           0       0.77      0.79      0.78       150\n",
            "           1       0.74      0.72      0.73       125\n",
            "\n",
            "    accuracy                           0.76       275\n",
            "   macro avg       0.75      0.75      0.75       275\n",
            "weighted avg       0.76      0.76      0.76       275\n",
            "\n"
          ],
          "name": "stdout"
        }
      ]
    },
    {
      "cell_type": "code",
      "metadata": {
        "colab": {
          "base_uri": "https://localhost:8080/"
        },
        "id": "KgM78QOPOdTr",
        "outputId": "f1fa954e-e318-4ca9-f804-054c1ef4e023"
      },
      "source": [
        "def experiment2(X,y): # Different features with Support Vector Machine\r\n",
        "    X_train,X_test,y_train,y_test=train_test_split(X,y,test_size=0.3)\r\n",
        "    svm2=Pipeline([('vect',CountVectorizer()),('svm',SVC(kernel=\"linear\",C=1))])\r\n",
        "    svm2=svm2.fit(X_train,y_train)\r\n",
        "    ypred2=svm2.predict(X_test)\r\n",
        "    print(\"Just unigram counts Accuracy\")\r\n",
        "    print(metrics.accuracy_score(y_test,ypred2))\r\n",
        "    print(metrics.classification_report(y_test,ypred2))\r\n",
        "def main():\r\n",
        "    print(\"Support Vector Machine Classifier\")\r\n",
        "    X,y=readcsv()\r\n",
        "    print(\"Evaluation\")\r\n",
        "    experiment2(X,y)#calling Support Vector Machine Classifier\r\n",
        "    \r\n",
        "if __name__==\"__main__\":\r\n",
        "    main()"
      ],
      "execution_count": 27,
      "outputs": [
        {
          "output_type": "stream",
          "text": [
            "Support Vector Machine Classifier\n",
            "Evaluation\n",
            "Just unigram counts Accuracy\n",
            "0.6981818181818182\n",
            "              precision    recall  f1-score   support\n",
            "\n",
            "           0       0.76      0.68      0.72       156\n",
            "           1       0.63      0.72      0.67       119\n",
            "\n",
            "    accuracy                           0.70       275\n",
            "   macro avg       0.70      0.70      0.70       275\n",
            "weighted avg       0.71      0.70      0.70       275\n",
            "\n"
          ],
          "name": "stdout"
        }
      ]
    },
    {
      "cell_type": "code",
      "metadata": {
        "colab": {
          "base_uri": "https://localhost:8080/"
        },
        "id": "HokLS-Q5OdWf",
        "outputId": "b50bb994-dcee-4d66-cec6-eb3824a8a570"
      },
      "source": [
        "def experiment2(X,y): # Different features with Support Vector Machine\r\n",
        "    X_train,X_test,y_train,y_test=train_test_split(X,y,test_size=0.3)\r\n",
        "    svm3=Pipeline([('vect',CountVectorizer(ngram_range=(1,2))),('svm',SVC(kernel=\"linear\",C=1))])\r\n",
        "    svm3=svm3.fit(X_train,y_train)\r\n",
        "    ypred3=svm3.predict(X_test)\r\n",
        "    print(\"Just bigram counts Accuracy\")\r\n",
        "    print(metrics.accuracy_score(y_test,ypred3))\r\n",
        "    print(metrics.classification_report(y_test,ypred3))\r\n",
        "def main():\r\n",
        "    print(\"Support Vector Machine Classifier\")\r\n",
        "    X,y=readcsv()\r\n",
        "    print(\"Evaluation\")\r\n",
        "    experiment2(X,y)#calling Support Vector Machine Classifier\r\n",
        "    \r\n",
        "if __name__==\"__main__\":\r\n",
        "    main()\r\n"
      ],
      "execution_count": 28,
      "outputs": [
        {
          "output_type": "stream",
          "text": [
            "Support Vector Machine Classifier\n",
            "Evaluation\n",
            "Just bigram counts Accuracy\n",
            "0.7381818181818182\n",
            "              precision    recall  f1-score   support\n",
            "\n",
            "           0       0.78      0.72      0.75       151\n",
            "           1       0.69      0.76      0.72       124\n",
            "\n",
            "    accuracy                           0.74       275\n",
            "   macro avg       0.74      0.74      0.74       275\n",
            "weighted avg       0.74      0.74      0.74       275\n",
            "\n"
          ],
          "name": "stdout"
        }
      ]
    },
    {
      "cell_type": "code",
      "metadata": {
        "colab": {
          "base_uri": "https://localhost:8080/"
        },
        "id": "ISMqNMSgPjkL",
        "outputId": "ab11170e-ff35-4a47-ca62-d230d01c4cea"
      },
      "source": [
        "def experiment2(X,y): # Different features with Support Vector Machine\r\n",
        "    X_train,X_test,y_train,y_test=train_test_split(X,y,test_size=0.3)\r\n",
        "    svm4=Pipeline([('vect',CountVectorizer(ngram_range=(1,3))),('svm',SVC(kernel=\"linear\",C=1))])\r\n",
        "    svm4=svm4.fit(X_train,y_train)\r\n",
        "    ypred4=svm4.predict(X_test)\r\n",
        "    print(\"Trigram counts Accuracy\")\r\n",
        "    print(metrics.accuracy_score(y_test,ypred4))\r\n",
        "    print(metrics.classification_report(y_test,ypred4))\r\n",
        "def main():\r\n",
        "    print(\"Support Vector Machine Classifier\")\r\n",
        "    X,y=readcsv()\r\n",
        "    print(\"Evaluation\")\r\n",
        "    experiment2(X,y)#calling Support Vector Machine Classifier\r\n",
        "    \r\n",
        "if __name__==\"__main__\":\r\n",
        "    main()\r\n"
      ],
      "execution_count": 39,
      "outputs": [
        {
          "output_type": "stream",
          "text": [
            "Support Vector Machine Classifier\n",
            "Evaluation\n",
            "Trigram counts Accuracy\n",
            "0.7418181818181818\n",
            "              precision    recall  f1-score   support\n",
            "\n",
            "           0       0.80      0.72      0.76       156\n",
            "           1       0.68      0.76      0.72       119\n",
            "\n",
            "    accuracy                           0.74       275\n",
            "   macro avg       0.74      0.74      0.74       275\n",
            "weighted avg       0.75      0.74      0.74       275\n",
            "\n"
          ],
          "name": "stdout"
        }
      ]
    },
    {
      "cell_type": "code",
      "metadata": {
        "colab": {
          "base_uri": "https://localhost:8080/"
        },
        "id": "Ki5tKC23PjvS",
        "outputId": "e96b306a-1cc1-4966-d485-2edd71cd883e"
      },
      "source": [
        "def experiment2(X,y): # Different features with Support Vector Machine\r\n",
        "    X_train,X_test,y_train,y_test=train_test_split(X,y,test_size=0.3)\r\n",
        "    svm5=Pipeline([('vect',CountVectorizer(ngram_range=(1,2))),('tfidf',TfidfTransformer()),('svm',SVC(kernel=\"linear\",C=1))])\r\n",
        "    svm5=svm5.fit(X_train,y_train)\r\n",
        "    ypred5=svm5.predict(X_test)\r\n",
        "    print(\"Bigram with tfidf Accuracy\")\r\n",
        "    print(metrics.accuracy_score(y_test,ypred5))\r\n",
        "    print(metrics.classification_report(y_test,ypred5))\r\n",
        "def main():\r\n",
        "    print(\"Support Vector Machine Classifier\")\r\n",
        "    X,y=readcsv()\r\n",
        "    print(\"Evaluation\")\r\n",
        "    experiment2(X,y)#calling Support Vector Machine Classifier\r\n",
        "    \r\n",
        "if __name__==\"__main__\":\r\n",
        "    main()"
      ],
      "execution_count": 40,
      "outputs": [
        {
          "output_type": "stream",
          "text": [
            "Support Vector Machine Classifier\n",
            "Evaluation\n",
            "Bigram with tfidf Accuracy\n",
            "0.8\n",
            "              precision    recall  f1-score   support\n",
            "\n",
            "           0       0.82      0.79      0.80       143\n",
            "           1       0.78      0.81      0.80       132\n",
            "\n",
            "    accuracy                           0.80       275\n",
            "   macro avg       0.80      0.80      0.80       275\n",
            "weighted avg       0.80      0.80      0.80       275\n",
            "\n"
          ],
          "name": "stdout"
        }
      ]
    },
    {
      "cell_type": "code",
      "metadata": {
        "colab": {
          "base_uri": "https://localhost:8080/"
        },
        "id": "IKhTnERhP6vM",
        "outputId": "36998461-ebe5-45f9-9391-932525eb4a54"
      },
      "source": [
        "def experiment2(X,y): # Different features with Support Vector Machine\r\n",
        "    X_train,X_test,y_train,y_test=train_test_split(X,y,test_size=0.3)\r\n",
        "    svm6=Pipeline([('vect',CountVectorizer(ngram_range=(1,3))),('tfidf',TfidfTransformer()),('svm',SVC(kernel=\"linear\",C=1))])\r\n",
        "    svm6=svm6.fit(X_train,y_train)\r\n",
        "    ypred6=svm6.predict(X_test)\r\n",
        "    print(\"Trigram with tfidf Accuracy\")\r\n",
        "    print(metrics.accuracy_score(y_test,ypred6))\r\n",
        "    print(metrics.classification_report(y_test,ypred6))\r\n",
        "def main():\r\n",
        "    print(\"Support Vector Machine Classifier\")\r\n",
        "    X,y=readcsv()\r\n",
        "    print(\"Evaluation\")\r\n",
        "    experiment2(X,y)#calling Support Vector Machine Classifier\r\n",
        "    \r\n",
        "if __name__==\"__main__\":\r\n",
        "    main()"
      ],
      "execution_count": 41,
      "outputs": [
        {
          "output_type": "stream",
          "text": [
            "Support Vector Machine Classifier\n",
            "Evaluation\n",
            "Trigram with tfidf Accuracy\n",
            "0.7490909090909091\n",
            "              precision    recall  f1-score   support\n",
            "\n",
            "           0       0.78      0.75      0.76       148\n",
            "           1       0.72      0.75      0.73       127\n",
            "\n",
            "    accuracy                           0.75       275\n",
            "   macro avg       0.75      0.75      0.75       275\n",
            "weighted avg       0.75      0.75      0.75       275\n",
            "\n"
          ],
          "name": "stdout"
        }
      ]
    },
    {
      "cell_type": "code",
      "metadata": {
        "colab": {
          "base_uri": "https://localhost:8080/"
        },
        "id": "fMl9UEbXQP3h",
        "outputId": "3382e9bd-5484-41a2-a411-eecf632b41c1"
      },
      "source": [
        "def experiment3(X,y): #  Different features Naive Bayes\r\n",
        "    X_train,X_test,y_train,y_test=train_test_split(X,y,test_size=0.3)\r\n",
        "    nb=createNB(X_train,y_train)\r\n",
        "    y_pred=nb.predict(X_test)\r\n",
        "    print(\"Original Accuracy - Unigram with tfidf\")\r\n",
        "    print(metrics.classification_report(y_test,y_pred))\r\n",
        "    print(metrics.accuracy_score(y_test,y_pred))\r\n",
        "def main():\r\n",
        "    print(\"Naive Bayes Classifier\")\r\n",
        "    X,y=readcsv()\r\n",
        "    print(\"Evaluation\")\r\n",
        "    experiment3(X,y)#calling Naive Bayes Classifier\r\n",
        "    \r\n",
        "if __name__==\"__main__\":\r\n",
        "    main()"
      ],
      "execution_count": 22,
      "outputs": [
        {
          "output_type": "stream",
          "text": [
            "Naive Bayes Classifier\n",
            "Evaluation\n",
            "Original Accuracy - Unigram with tfidf\n",
            "              precision    recall  f1-score   support\n",
            "\n",
            "           0       0.70      0.78      0.74       145\n",
            "           1       0.72      0.63      0.67       130\n",
            "\n",
            "    accuracy                           0.71       275\n",
            "   macro avg       0.71      0.71      0.71       275\n",
            "weighted avg       0.71      0.71      0.71       275\n",
            "\n",
            "0.7090909090909091\n"
          ],
          "name": "stdout"
        }
      ]
    },
    {
      "cell_type": "code",
      "metadata": {
        "colab": {
          "base_uri": "https://localhost:8080/"
        },
        "id": "DHwfms_iQP-Q",
        "outputId": "562a4daa-7ed4-46db-8f0d-a4a726cb0ed6"
      },
      "source": [
        "def experiment3(X,y): # Different Feature set with Naive Bayes\r\n",
        "    X_train,X_test,y_train,y_test=train_test_split(X,y,test_size=0.3)\r\n",
        "    nb2=Pipeline([('vect',CountVectorizer()),('nb',MultinomialNB())])\r\n",
        "    nb2=nb2.fit(X_train,y_train)\r\n",
        "    ypred2=nb2.predict(X_test)\r\n",
        "    print(\"Just Unigrams counts Accuracy\")\r\n",
        "    print(metrics.classification_report(y_test,ypred2))\r\n",
        "    print(metrics.accuracy_score(y_test,ypred2))\r\n",
        "def main():\r\n",
        "    print(\"Naive Bayes Classifier\")\r\n",
        "    X,y=readcsv()\r\n",
        "    print(\"Evaluation\")\r\n",
        "    experiment3(X,y)#calling Naive Bayes Classifier\r\n",
        "    \r\n",
        "if __name__==\"__main__\":\r\n",
        "    main()"
      ],
      "execution_count": 23,
      "outputs": [
        {
          "output_type": "stream",
          "text": [
            "Naive Bayes Classifier\n",
            "Evaluation\n",
            "Just Unigrams counts Accuracy\n",
            "              precision    recall  f1-score   support\n",
            "\n",
            "           0       0.82      0.68      0.74       158\n",
            "           1       0.65      0.79      0.71       117\n",
            "\n",
            "    accuracy                           0.73       275\n",
            "   macro avg       0.73      0.74      0.73       275\n",
            "weighted avg       0.74      0.73      0.73       275\n",
            "\n",
            "0.7272727272727273\n"
          ],
          "name": "stdout"
        }
      ]
    },
    {
      "cell_type": "code",
      "metadata": {
        "colab": {
          "base_uri": "https://localhost:8080/"
        },
        "id": "pTbhaylGQQCY",
        "outputId": "d54c0662-772f-4fd4-c081-94a34135105f"
      },
      "source": [
        "def experiment3(X,y): # Different Feature set with Naive Bayes\r\n",
        "    X_train,X_test,y_train,y_test=train_test_split(X,y,test_size=0.3)\r\n",
        "    nb3=Pipeline([('vect',CountVectorizer(ngram_range=(1,2))),('nb',MultinomialNB())])\r\n",
        "    nb3=nb3.fit(X_train,y_train)\r\n",
        "    ypred3=nb3.predict(X_test)\r\n",
        "    print(\"Bigram counts Accuracy\")\r\n",
        "    print(metrics.accuracy_score(y_test,ypred3))\r\n",
        "    print(metrics.classification_report(y_test,ypred3))\r\n",
        "def main():\r\n",
        "    print(\"Naive Bayes Classifier\")\r\n",
        "    X,y=readcsv()\r\n",
        "    print(\"Evaluation\")\r\n",
        "    experiment3(X,y)#calling Naive Bayes Classifier\r\n",
        "    \r\n",
        "if __name__==\"__main__\":\r\n",
        "    main()"
      ],
      "execution_count": 24,
      "outputs": [
        {
          "output_type": "stream",
          "text": [
            "Naive Bayes Classifier\n",
            "Evaluation\n",
            "Bigram counts Accuracy\n",
            "0.6909090909090909\n",
            "              precision    recall  f1-score   support\n",
            "\n",
            "           0       0.77      0.62      0.69       151\n",
            "           1       0.63      0.77      0.69       124\n",
            "\n",
            "    accuracy                           0.69       275\n",
            "   macro avg       0.70      0.70      0.69       275\n",
            "weighted avg       0.71      0.69      0.69       275\n",
            "\n"
          ],
          "name": "stdout"
        }
      ]
    },
    {
      "cell_type": "code",
      "metadata": {
        "colab": {
          "base_uri": "https://localhost:8080/"
        },
        "id": "jhdm_WHMQQGh",
        "outputId": "29190fed-5fe6-4fb3-ac17-30b8c5309863"
      },
      "source": [
        "def experiment3(X,y): # Different Feature set with Naive Bayes\r\n",
        "    X_train,X_test,y_train,y_test=train_test_split(X,y,test_size=0.3)\r\n",
        "    nb4=Pipeline([('vect',CountVectorizer(ngram_range=(1,3))),('nb',MultinomialNB())])\r\n",
        "    nb4=nb4.fit(X_train,y_train)\r\n",
        "    ypred4=nb4.predict(X_test)\r\n",
        "    print(\"Trigram counts Accuracy\")\r\n",
        "    print(metrics.accuracy_score(y_test,ypred4))\r\n",
        "    print(metrics.classification_report(y_test,ypred4))\r\n",
        "def main():\r\n",
        "    print(\"Naive Bayes Classifier\")\r\n",
        "    X,y=readcsv()\r\n",
        "    print(\"Evaluation\")\r\n",
        "    experiment3(X,y)#calling Naive Bayes Classifier\r\n",
        "    \r\n",
        "if __name__==\"__main__\":\r\n",
        "    main()"
      ],
      "execution_count": 25,
      "outputs": [
        {
          "output_type": "stream",
          "text": [
            "Naive Bayes Classifier\n",
            "Evaluation\n",
            "Trigram counts Accuracy\n",
            "0.7127272727272728\n",
            "              precision    recall  f1-score   support\n",
            "\n",
            "           0       0.77      0.68      0.72       149\n",
            "           1       0.66      0.75      0.71       126\n",
            "\n",
            "    accuracy                           0.71       275\n",
            "   macro avg       0.71      0.72      0.71       275\n",
            "weighted avg       0.72      0.71      0.71       275\n",
            "\n"
          ],
          "name": "stdout"
        }
      ]
    },
    {
      "cell_type": "code",
      "metadata": {
        "colab": {
          "base_uri": "https://localhost:8080/"
        },
        "id": "0Q0JfQ1AQQJs",
        "outputId": "da122a8d-ece7-48f0-b8ca-dd800fe939a8"
      },
      "source": [
        "def experiment3(X,y): # Different Feature set with Naive Bayes\r\n",
        "    X_train,X_test,y_train,y_test=train_test_split(X,y,test_size=0.3)\r\n",
        "    nb5=Pipeline([('vect',CountVectorizer(ngram_range=(1,2))),('tfidf',TfidfTransformer()),('nb',MultinomialNB())])\r\n",
        "    nb5=nb5.fit(X_train,y_train)\r\n",
        "    ypred5=nb5.predict(X_test)\r\n",
        "    #drawrocSVM(y_test,ypred5)\r\n",
        "    print(\"Bigram with tfidf Accuracy\")\r\n",
        "    print(metrics.accuracy_score(y_test,ypred5))\r\n",
        "    print(metrics.classification_report(y_test,ypred5))\r\n",
        "def main():\r\n",
        "    print(\"Naive Bayes Classifier\")\r\n",
        "    X,y=readcsv()\r\n",
        "    print(\"Evaluation\")\r\n",
        "    experiment3(X,y)#calling Naive Bayes Classifier\r\n",
        "    \r\n",
        "if __name__==\"__main__\":\r\n",
        "    main() "
      ],
      "execution_count": 26,
      "outputs": [
        {
          "output_type": "stream",
          "text": [
            "Naive Bayes Classifier\n",
            "Evaluation\n",
            "Bigram with tfidf Accuracy\n",
            "0.6872727272727273\n",
            "              precision    recall  f1-score   support\n",
            "\n",
            "           0       0.64      0.87      0.73       137\n",
            "           1       0.80      0.51      0.62       138\n",
            "\n",
            "    accuracy                           0.69       275\n",
            "   macro avg       0.72      0.69      0.68       275\n",
            "weighted avg       0.72      0.69      0.68       275\n",
            "\n"
          ],
          "name": "stdout"
        }
      ]
    },
    {
      "cell_type": "code",
      "metadata": {
        "colab": {
          "base_uri": "https://localhost:8080/"
        },
        "id": "gXgrbfS0QQMw",
        "outputId": "c1669f79-f434-49a6-de87-5e826b936898"
      },
      "source": [
        "def experiment3(X,y): # Different Feature set with Naive Bayes\r\n",
        "    X_train,X_test,y_train,y_test=train_test_split(X,y,test_size=0.3)\r\n",
        "    nb6=Pipeline([('vect',CountVectorizer(ngram_range=(1,3))),('tfidf',TfidfTransformer()),('nb',MultinomialNB())])\r\n",
        "    nb6=nb6.fit(X_train,y_train)\r\n",
        "    ypred6=nb6.predict(X_test)\r\n",
        "    #drawrocSVM(y_test,ypred5)\r\n",
        "    print(\"Trigram with tfidf Accuracy\")\r\n",
        "    print(metrics.classification_report(y_test,ypred6))\r\n",
        "    print(metrics.accuracy_score(y_test,ypred6))\r\n",
        "def main():\r\n",
        "    print(\"Naive Bayes Classifier\")\r\n",
        "    X,y=readcsv()\r\n",
        "    print(\"Evaluation\")\r\n",
        "    experiment3(X,y)#calling Naive Bayes Classifier\r\n",
        "    \r\n",
        "if __name__==\"__main__\":\r\n",
        "    main()"
      ],
      "execution_count": 27,
      "outputs": [
        {
          "output_type": "stream",
          "text": [
            "Naive Bayes Classifier\n",
            "Evaluation\n",
            "Trigram with tfidf Accuracy\n",
            "              precision    recall  f1-score   support\n",
            "\n",
            "           0       0.78      0.78      0.78       153\n",
            "           1       0.72      0.72      0.72       122\n",
            "\n",
            "    accuracy                           0.75       275\n",
            "   macro avg       0.75      0.75      0.75       275\n",
            "weighted avg       0.75      0.75      0.75       275\n",
            "\n",
            "0.7527272727272727\n"
          ],
          "name": "stdout"
        }
      ]
    },
    {
      "cell_type": "code",
      "metadata": {
        "colab": {
          "base_uri": "https://localhost:8080/"
        },
        "id": "Y7cJ3tiRQQPj",
        "outputId": "6c7832aa-7fc8-4be1-affb-2b549ff8b995"
      },
      "source": [
        "def experiment4(X,y): # Different feature sets with KNN\r\n",
        "    X_train,X_test,y_train,y_test=train_test_split(X,y,test_size=0.3)\r\n",
        "    knn=Pipeline([('vect',CountVectorizer()),('tfidf',TfidfTransformer()),('knn',KNeighborsClassifier())])\r\n",
        "    knn=knn.fit(X_train,y_train)\r\n",
        "    ypredknn=knn.predict(X_test)\r\n",
        "    print(\"Original Accuracy: Unigram with tfidf\")\r\n",
        "    print(metrics.accuracy_score(y_test,ypredknn))\r\n",
        "    print(metrics.classification_report(y_test,ypredknn))\r\n",
        "def main():\r\n",
        "    print(\"KNN Classifier\")\r\n",
        "    X,y=readcsv()\r\n",
        "    print(\"Evaluation\")\r\n",
        "    experiment4(X,y)#calling KNN Classifier\r\n",
        "    \r\n",
        "if __name__==\"__main__\":\r\n",
        "    main()"
      ],
      "execution_count": 28,
      "outputs": [
        {
          "output_type": "stream",
          "text": [
            "KNN Classifier\n",
            "Evaluation\n",
            "Original Accuracy: Unigram with tfidf\n",
            "0.6654545454545454\n",
            "              precision    recall  f1-score   support\n",
            "\n",
            "           0       0.81      0.53      0.64       154\n",
            "           1       0.58      0.84      0.69       121\n",
            "\n",
            "    accuracy                           0.67       275\n",
            "   macro avg       0.70      0.68      0.66       275\n",
            "weighted avg       0.71      0.67      0.66       275\n",
            "\n"
          ],
          "name": "stdout"
        }
      ]
    },
    {
      "cell_type": "code",
      "metadata": {
        "colab": {
          "base_uri": "https://localhost:8080/"
        },
        "id": "2xe0Whw5RNXd",
        "outputId": "0b5c331b-4dbc-42cd-fb10-7b17d52cc144"
      },
      "source": [
        "def experiment4(X,y): # Different feature sets with KNN\r\n",
        "    X_train,X_test,y_train,y_test=train_test_split(X,y,test_size=0.3)\r\n",
        "    knn=Pipeline([('vect',CountVectorizer()),('knn',KNeighborsClassifier())])\r\n",
        "    knn=knn.fit(X_train,y_train)\r\n",
        "    ypredknn=knn.predict(X_test)\r\n",
        "    print(\"Unigram counts Accuracy\")\r\n",
        "    print(metrics.accuracy_score(y_test,ypredknn))\r\n",
        "    print(metrics.classification_report(y_test,ypredknn))\r\n",
        "def main():\r\n",
        "    print(\"KNN Classifier\")\r\n",
        "    X,y=readcsv()\r\n",
        "    print(\"Evaluation\")\r\n",
        "    experiment4(X,y)#calling KNN Classifier\r\n",
        "    \r\n",
        "if __name__==\"__main__\":\r\n",
        "    main()\r\n",
        "\r\n",
        "    "
      ],
      "execution_count": 29,
      "outputs": [
        {
          "output_type": "stream",
          "text": [
            "KNN Classifier\n",
            "Evaluation\n",
            "Unigram counts Accuracy\n",
            "0.5418181818181819\n",
            "              precision    recall  f1-score   support\n",
            "\n",
            "           0       0.71      0.20      0.32       143\n",
            "           1       0.51      0.91      0.66       132\n",
            "\n",
            "    accuracy                           0.54       275\n",
            "   macro avg       0.61      0.56      0.49       275\n",
            "weighted avg       0.61      0.54      0.48       275\n",
            "\n"
          ],
          "name": "stdout"
        }
      ]
    },
    {
      "cell_type": "code",
      "metadata": {
        "colab": {
          "base_uri": "https://localhost:8080/"
        },
        "id": "QoaJFM6uRNbS",
        "outputId": "a2432d5b-9313-4e8f-9e69-1813f21eb9e0"
      },
      "source": [
        "def experiment4(X,y): # Different feature sets with KNN\r\n",
        "    X_train,X_test,y_train,y_test=train_test_split(X,y,test_size=0.3)\r\n",
        "    knn=Pipeline([('vect',CountVectorizer(ngram_range=(1,2))),('knn',KNeighborsClassifier())])\r\n",
        "    knn=knn.fit(X_train,y_train)\r\n",
        "    ypredknn=knn.predict(X_test)\r\n",
        "    print(\"Bigram counts Accuracy\")\r\n",
        "    print(metrics.accuracy_score(y_test,ypredknn))\r\n",
        "    print(metrics.classification_report(y_test,ypredknn))\r\n",
        "def main():\r\n",
        "    print(\"KNN Classifier\")\r\n",
        "    X,y=readcsv()\r\n",
        "    print(\"Evaluation\")\r\n",
        "    experiment4(X,y)#calling KNN Classifier\r\n",
        "    \r\n",
        "if __name__==\"__main__\":\r\n",
        "    main() "
      ],
      "execution_count": 30,
      "outputs": [
        {
          "output_type": "stream",
          "text": [
            "KNN Classifier\n",
            "Evaluation\n",
            "Bigram counts Accuracy\n",
            "0.5345454545454545\n",
            "              precision    recall  f1-score   support\n",
            "\n",
            "           0       0.61      0.30      0.40       144\n",
            "           1       0.51      0.79      0.62       131\n",
            "\n",
            "    accuracy                           0.53       275\n",
            "   macro avg       0.56      0.55      0.51       275\n",
            "weighted avg       0.56      0.53      0.51       275\n",
            "\n"
          ],
          "name": "stdout"
        }
      ]
    },
    {
      "cell_type": "code",
      "metadata": {
        "colab": {
          "base_uri": "https://localhost:8080/"
        },
        "id": "EdqtYQqHRNfP",
        "outputId": "bf641253-3cf5-4fc4-ed49-851d74515f9b"
      },
      "source": [
        "def experiment4(X,y): # Different feature sets with KNN\r\n",
        "    X_train,X_test,y_train,y_test=train_test_split(X,y,test_size=0.3)\r\n",
        "    knn=Pipeline([('vect',CountVectorizer(ngram_range=(1,2))),('tfidf',TfidfTransformer()),('knn',KNeighborsClassifier())])\r\n",
        "    knn=knn.fit(X_train,y_train)\r\n",
        "    ypredknn=knn.predict(X_test)\r\n",
        "    print(\"Bigram with tfidf Accuracy\")\r\n",
        "    print(metrics.accuracy_score(y_test,ypredknn))\r\n",
        "    print(metrics.classification_report(y_test,ypredknn))\r\n",
        "def main():\r\n",
        "    print(\"KNN Classifier\")\r\n",
        "    X,y=readcsv()\r\n",
        "    print(\"Evaluation\")\r\n",
        "    experiment4(X,y)#calling KNN Classifier\r\n",
        "    \r\n",
        "if __name__==\"__main__\":\r\n",
        "    main()\r\n",
        "\r\n",
        "    "
      ],
      "execution_count": 31,
      "outputs": [
        {
          "output_type": "stream",
          "text": [
            "KNN Classifier\n",
            "Evaluation\n",
            "Bigram with tfidf Accuracy\n",
            "0.6727272727272727\n",
            "              precision    recall  f1-score   support\n",
            "\n",
            "           0       0.72      0.61      0.66       142\n",
            "           1       0.64      0.74      0.69       133\n",
            "\n",
            "    accuracy                           0.67       275\n",
            "   macro avg       0.68      0.67      0.67       275\n",
            "weighted avg       0.68      0.67      0.67       275\n",
            "\n"
          ],
          "name": "stdout"
        }
      ]
    },
    {
      "cell_type": "code",
      "metadata": {
        "colab": {
          "base_uri": "https://localhost:8080/"
        },
        "id": "FGWsQcU_RNim",
        "outputId": "8a7cc889-d310-4081-d502-99d2cccc166a"
      },
      "source": [
        "def experiment4(X,y): # Different feature sets with KNN\r\n",
        "    X_train,X_test,y_train,y_test=train_test_split(X,y,test_size=0.3)\r\n",
        "    knn=Pipeline([('vect',CountVectorizer(ngram_range=(1,3))),('knn',KNeighborsClassifier())])\r\n",
        "    knn=knn.fit(X_train,y_train)\r\n",
        "    ypredknn=knn.predict(X_test)\r\n",
        "    print(\"Trigram counts Accuracy\")\r\n",
        "    print(metrics.accuracy_score(y_test,ypredknn))\r\n",
        "    print(metrics.classification_report(y_test,ypredknn))\r\n",
        "def main():\r\n",
        "    print(\"KNN Classifier\")\r\n",
        "    X,y=readcsv()\r\n",
        "    print(\"Evaluation\")\r\n",
        "    experiment4(X,y)#calling KNN Classifier\r\n",
        "    \r\n",
        "if __name__==\"__main__\":\r\n",
        "    main()\r\n",
        "\r\n",
        "    "
      ],
      "execution_count": 32,
      "outputs": [
        {
          "output_type": "stream",
          "text": [
            "KNN Classifier\n",
            "Evaluation\n",
            "Trigram counts Accuracy\n",
            "0.5163636363636364\n",
            "              precision    recall  f1-score   support\n",
            "\n",
            "           0       0.59      0.14      0.22       139\n",
            "           1       0.51      0.90      0.65       136\n",
            "\n",
            "    accuracy                           0.52       275\n",
            "   macro avg       0.55      0.52      0.44       275\n",
            "weighted avg       0.55      0.52      0.43       275\n",
            "\n"
          ],
          "name": "stdout"
        }
      ]
    },
    {
      "cell_type": "code",
      "metadata": {
        "colab": {
          "base_uri": "https://localhost:8080/"
        },
        "id": "IUe-bvfURNly",
        "outputId": "c59cb13a-c14e-4571-fe1c-0c775de1e323"
      },
      "source": [
        "def experiment4(X,y): # Different feature sets with KNN\r\n",
        "    X_train,X_test,y_train,y_test=train_test_split(X,y,test_size=0.3)\r\n",
        "    knn=Pipeline([('vect',CountVectorizer(ngram_range=(1,3))),('tfidf',TfidfTransformer()),('knn',KNeighborsClassifier())])\r\n",
        "    knn=knn.fit(X_train,y_train)\r\n",
        "    ypredknn=knn.predict(X_test)\r\n",
        "    print(\"Trigram with tfidf Accuracy\")\r\n",
        "    print(metrics.accuracy_score(y_test,ypredknn))\r\n",
        "    print(metrics.classification_report(y_test,ypredknn))\r\n",
        "def main():\r\n",
        "    print(\"KNN Classifier\")\r\n",
        "    X,y=readcsv()\r\n",
        "    print(\"Evalutaion\": aa3)\r\n",
        "    experiment4(X,y)#calling KNN Classifier\r\n",
        "    \r\n",
        "if __name__==\"__main__\":\r\n",
        "    main()"
      ],
      "execution_count": 33,
      "outputs": [
        {
          "output_type": "stream",
          "text": [
            "KNN Classifier\n",
            "Evalutaion\n",
            "Trigram with tfidf Accuracy\n",
            "0.6872727272727273\n",
            "              precision    recall  f1-score   support\n",
            "\n",
            "           0       0.76      0.59      0.67       145\n",
            "           1       0.64      0.79      0.71       130\n",
            "\n",
            "    accuracy                           0.69       275\n",
            "   macro avg       0.70      0.69      0.69       275\n",
            "weighted avg       0.70      0.69      0.69       275\n",
            "\n"
          ],
          "name": "stdout"
        }
      ]
    }
  ]
}