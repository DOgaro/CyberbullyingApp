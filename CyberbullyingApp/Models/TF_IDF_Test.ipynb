{
  "nbformat": 4,
  "nbformat_minor": 0,
  "metadata": {
    "colab": {
      "name": "TF-IDF Test.ipynb",
      "provenance": []
    },
    "kernelspec": {
      "name": "python3",
      "display_name": "Python 3"
    }
  },
  "cells": [
    {
      "cell_type": "code",
      "metadata": {
        "id": "7NtQX0UyNY0C"
      },
      "source": [
        "from sklearn.feature_extraction.text import TfidfVectorizer\r\n",
        "from sklearn.feature_extraction.text import TfidfTransformer\r\n",
        "from sklearn.feature_extraction.text import CountVectorizer\r\n",
        "from sklearn.neighbors import KNeighborsClassifier\r\n",
        "from sklearn.naive_bayes import MultinomialNB\r\n",
        "from sklearn.pipeline import Pipeline\r\n",
        "from sklearn.model_selection import cross_val_score\r\n",
        "from sklearn.model_selection import train_test_split\r\n",
        "from sklearn.model_selection import ShuffleSplit\r\n",
        "from sklearn.model_selection import learning_curve\r\n",
        "from sklearn.model_selection import cross_val_predict\r\n",
        "from sklearn.feature_selection import mutual_info_classif\r\n",
        "from sklearn.metrics import roc_curve, auc\r\n",
        "from sklearn.metrics import classification_report\r\n",
        "from sklearn.svm import SVC\r\n",
        "from sklearn import metrics"
      ],
      "execution_count": 1,
      "outputs": []
    },
    {
      "cell_type": "code",
      "metadata": {
        "id": "F7nfG-6YNeoZ"
      },
      "source": [
        "import pandas as pd\r\n",
        "import matplotlib.pyplot as plt\r\n",
        "import numpy as np\r\n",
        "import random\r\n",
        "import string"
      ],
      "execution_count": 2,
      "outputs": []
    },
    {
      "cell_type": "code",
      "metadata": {
        "colab": {
          "resources": {
            "http://localhost:8080/nbextensions/google.colab/files.js": {
              "data": "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",
              "ok": true,
              "headers": [
                [
                  "content-type",
                  "application/javascript"
                ]
              ],
              "status": 200,
              "status_text": "OK"
            }
          },
          "base_uri": "https://localhost:8080/",
          "height": 77
        },
        "id": "S1MDpJsYN4ZM",
        "outputId": "9042f4ac-de78-47ac-bc5e-ce78f3c2b647"
      },
      "source": [
        "from google.colab import files\r\n",
        "upload=files.upload() # LOADING DATA FROM OUR LOCAL MACHINE"
      ],
      "execution_count": 4,
      "outputs": [
        {
          "output_type": "display_data",
          "data": {
            "text/html": [
              "\n",
              "     <input type=\"file\" id=\"files-5d132a7b-1229-4796-9d87-071e29cdfa51\" name=\"files[]\" multiple disabled\n",
              "        style=\"border:none\" />\n",
              "     <output id=\"result-5d132a7b-1229-4796-9d87-071e29cdfa51\">\n",
              "      Upload widget is only available when the cell has been executed in the\n",
              "      current browser session. Please rerun this cell to enable.\n",
              "      </output>\n",
              "      <script src=\"/nbextensions/google.colab/files.js\"></script> "
            ],
            "text/plain": [
              "<IPython.core.display.HTML object>"
            ]
          },
          "metadata": {
            "tags": []
          }
        },
        {
          "output_type": "stream",
          "text": [
            "Saving dataset.csv to dataset.csv\n"
          ],
          "name": "stdout"
        }
      ]
    },
    {
      "cell_type": "code",
      "metadata": {
        "id": "bMqQUr5nNeyA"
      },
      "source": [
        "def readcsv():\r\n",
        "    df=pd.read_csv(\"dataset.csv\",)#read labelled tweets\r\n",
        "    #df2=df.reindex(np.random.permutation(df.index))\r\n",
        "    X=df.text\r\n",
        "    y=df.label\r\n",
        "    return X, y"
      ],
      "execution_count": 5,
      "outputs": []
    },
    {
      "cell_type": "code",
      "metadata": {
        "colab": {
          "base_uri": "https://localhost:8080/",
          "height": 206
        },
        "id": "qKdujcpuNe6p",
        "outputId": "ef65b91d-e72e-4a40-d4c1-28e993fc61d2"
      },
      "source": [
        "# READING THE DATASET AND DISPLAYING ITS CONTENTS\r\n",
        "df = pd.read_csv('dataset.csv', header=0)\r\n",
        "df.head()"
      ],
      "execution_count": 6,
      "outputs": [
        {
          "output_type": "execute_result",
          "data": {
            "text/html": [
              "<div>\n",
              "<style scoped>\n",
              "    .dataframe tbody tr th:only-of-type {\n",
              "        vertical-align: middle;\n",
              "    }\n",
              "\n",
              "    .dataframe tbody tr th {\n",
              "        vertical-align: top;\n",
              "    }\n",
              "\n",
              "    .dataframe thead th {\n",
              "        text-align: right;\n",
              "    }\n",
              "</style>\n",
              "<table border=\"1\" class=\"dataframe\">\n",
              "  <thead>\n",
              "    <tr style=\"text-align: right;\">\n",
              "      <th></th>\n",
              "      <th>text</th>\n",
              "      <th>TextLabel</th>\n",
              "      <th>label</th>\n",
              "    </tr>\n",
              "  </thead>\n",
              "  <tbody>\n",
              "    <tr>\n",
              "      <th>0</th>\n",
              "      <td>.omg why are poc wearing fugly blue contacts s...</td>\n",
              "      <td>Non-Bullying</td>\n",
              "      <td>0</td>\n",
              "    </tr>\n",
              "    <tr>\n",
              "      <th>1</th>\n",
              "      <td>.Sorry but most of the runners popular right n...</td>\n",
              "      <td>Non-Bullying</td>\n",
              "      <td>0</td>\n",
              "    </tr>\n",
              "    <tr>\n",
              "      <th>2</th>\n",
              "      <td>.those jeans are hideous, and I?m afraid he?s ...</td>\n",
              "      <td>Non-Bullying</td>\n",
              "      <td>0</td>\n",
              "    </tr>\n",
              "    <tr>\n",
              "      <th>3</th>\n",
              "      <td>.I had to dress up for a presentation in class...</td>\n",
              "      <td>Non-Bullying</td>\n",
              "      <td>0</td>\n",
              "    </tr>\n",
              "    <tr>\n",
              "      <th>4</th>\n",
              "      <td>.Am I the only one who thinks justin bieber is...</td>\n",
              "      <td>Non-Bullying</td>\n",
              "      <td>0</td>\n",
              "    </tr>\n",
              "  </tbody>\n",
              "</table>\n",
              "</div>"
            ],
            "text/plain": [
              "                                                text     TextLabel  label\n",
              "0  .omg why are poc wearing fugly blue contacts s...  Non-Bullying      0\n",
              "1  .Sorry but most of the runners popular right n...  Non-Bullying      0\n",
              "2  .those jeans are hideous, and I?m afraid he?s ...  Non-Bullying      0\n",
              "3  .I had to dress up for a presentation in class...  Non-Bullying      0\n",
              "4  .Am I the only one who thinks justin bieber is...  Non-Bullying      0"
            ]
          },
          "metadata": {
            "tags": []
          },
          "execution_count": 6
        }
      ]
    },
    {
      "cell_type": "code",
      "metadata": {
        "id": "EmpzvADOONto"
      },
      "source": [
        "def createSVM(X,y):\r\n",
        "    svm_clf=Pipeline([('vect',CountVectorizer(max_df=0.7)),('tfidf',TfidfTransformer()),('svm',SVC(kernel=\"linear\",C=1))])\r\n",
        "    svm_clf=svm_clf.fit(X,y)\r\n",
        "    return svm_clf"
      ],
      "execution_count": 64,
      "outputs": []
    },
    {
      "cell_type": "code",
      "metadata": {
        "id": "qjK0tSOSON3u"
      },
      "source": [
        "def createNB(X,y):\r\n",
        "    nb_clf=Pipeline([('vect',CountVectorizer()),('tfidf',TfidfTransformer()),('nb',MultinomialNB())])\r\n",
        "    nb_clf=nb_clf.fit(X,y)\r\n",
        "    return nb_clf"
      ],
      "execution_count": 65,
      "outputs": []
    },
    {
      "cell_type": "code",
      "metadata": {
        "id": "6oEgOLclON6x"
      },
      "source": [
        "def drawrocSVM(y_test,y_pred):\r\n",
        "    fpr,tpr,threshold=roc_curve(y_test,y_pred)\r\n",
        "    print(\"Drawing\")\r\n",
        "    roc_auc=auc(fpr,tpr)\r\n",
        "    plt.title('Support Vector Machine Accuracy')\r\n",
        "    plt.plot(fpr,tpr,'b',label='SVM AUC = %0.2f'%roc_auc,color='b')\r\n",
        "    plt.legend(loc='lower right')\r\n",
        "    plt.plot([0,1],[0,1],'r--')\r\n",
        "    plt.xlim([-0.1,1.2])\r\n",
        "    plt.ylim([-0.1,1.2])\r\n",
        "    plt.ylabel('True Positive Rate')\r\n",
        "    plt.xlabel('False Positive Rate')\r\n",
        "    plt.show()"
      ],
      "execution_count": 66,
      "outputs": []
    },
    {
      "cell_type": "code",
      "metadata": {
        "id": "4jMGCbweON_N"
      },
      "source": [
        "def drawrocNB(y_test,y_pred):\r\n",
        "    fpr,tpr,threshold=roc_curve(y_test,y_pred)\r\n",
        "    print(\"Drawing\")\r\n",
        "    roc_auc=auc(fpr,tpr)\r\n",
        "    plt.title('Naive Bayes Accuracy')\r\n",
        "    plt.plot(fpr,tpr,'b',label='NB AUC = %0.2f'%roc_auc,color='r')\r\n",
        "    plt.legend(loc='lower right')\r\n",
        "    plt.plot([0,1],[0,1],'r--')\r\n",
        "    plt.xlim([-0.1,1.2])\r\n",
        "    plt.ylim([-0.1,1.2])\r\n",
        "    plt.ylabel('True Positive Rate')\r\n",
        "    plt.xlabel('False Positive Rate')\r\n",
        "    plt.show()"
      ],
      "execution_count": 67,
      "outputs": []
    },
    {
      "cell_type": "code",
      "metadata": {
        "id": "_-gf18HaOdDr"
      },
      "source": [
        "def drawrocKNN(y_test,y_pred):\r\n",
        "    fpr,tpr,threshold=roc_curve(y_test,y_pred)\r\n",
        "    print(\"Drawing\")\r\n",
        "    roc_auc=auc(fpr,tpr)\r\n",
        "    plt.title('KNN Accuracy')\r\n",
        "    plt.plot(fpr,tpr,'b',label='KNN AUC = %0.2f'%\r\n",
        "    roc_auc,color='g')\r\n",
        "    plt.legend(loc='lower right')\r\n",
        "    plt.plot([0,1],[0,1],'r--')\r\n",
        "    plt.xlim([-0.1,1.2])\r\n",
        "    plt.ylim([-0.1,1.2])\r\n",
        "    plt.ylabel('True Positive Rate')\r\n",
        "    plt.xlabel('False Positive Rate')\r\n",
        "    plt.show()"
      ],
      "execution_count": 68,
      "outputs": []
    },
    {
      "cell_type": "code",
      "metadata": {
        "colab": {
          "base_uri": "https://localhost:8080/",
          "height": 556
        },
        "id": "ywCv2XReOdHB",
        "outputId": "93db378d-8c5e-4e9f-98b8-6220198782e6"
      },
      "source": [
        "def experiment1(X,y): # Support Vector Machine Classifier\r\n",
        "    X_train,X_test,y_train,y_test=train_test_split(X,y,test_size=0.3,random_state=0)\r\n",
        "    svm=Pipeline([('vect',CountVectorizer()),('tfidf',TfidfTransformer()),('svm',SVC(kernel=\"linear\",C=1))])\r\n",
        "    svm=svm.fit(X_train,y_train)\r\n",
        "    ypred=svm.predict(X_test)\r\n",
        "    print(\"SVM metrics\")\r\n",
        "    print(metrics.accuracy_score(y_test,ypred))\r\n",
        "    print(metrics.classification_report(y_test,ypred))\r\n",
        "    drawrocSVM(y_test,ypred)\r\n",
        "def main():\r\n",
        "    print(\"Support Vector Machine Classifier\")\r\n",
        "    X,y=readcsv()\r\n",
        "    print(\"Evaluation\")\r\n",
        "    experiment1(X,y)#calling the Support Vector Machine\r\n",
        "    \r\n",
        "if __name__==\"__main__\":\r\n",
        "    main()"
      ],
      "execution_count": 69,
      "outputs": [
        {
          "output_type": "stream",
          "text": [
            "Support Vector Machine Classifier\n",
            "Evaluation\n",
            "SVM metrics\n",
            "0.721875\n",
            "              precision    recall  f1-score   support\n",
            "\n",
            "           0       0.73      0.82      0.78       187\n",
            "           1       0.70      0.58      0.63       133\n",
            "\n",
            "    accuracy                           0.72       320\n",
            "   macro avg       0.72      0.70      0.70       320\n",
            "weighted avg       0.72      0.72      0.72       320\n",
            "\n",
            "Drawing\n"
          ],
          "name": "stdout"
        },
        {
          "output_type": "display_data",
          "data": {
            "image/png": "[encoded data removed]",
            "text/plain": [
              "<Figure size 432x288 with 1 Axes>"
            ]
          },
          "metadata": {
            "tags": [],
            "needs_background": "light"
          }
        }
      ]
    },
    {
      "cell_type": "code",
      "metadata": {
        "colab": {
          "base_uri": "https://localhost:8080/",
          "height": 556
        },
        "id": "SQ9VRpnPOdKd",
        "outputId": "f5414c56-881b-4f6b-86b7-6b7fa793f06b"
      },
      "source": [
        "def experiment1(X,y): # Naive Bayes Classifier\r\n",
        "    X_train,X_test,y_train,y_test=train_test_split(X,y,test_size=0.3,random_state=0)    \r\n",
        "    nb=Pipeline([('vect',CountVectorizer(ngram_range=(1,2))),('tfidf',TfidfTransformer()),('nb',MultinomialNB())])\r\n",
        "    nb=nb.fit(X_train,y_train)\r\n",
        "    yprednb=nb.predict(X_test)\r\n",
        "    print(\"NB Metrics\")\r\n",
        "    print(metrics.accuracy_score(y_test,yprednb))\r\n",
        "    print(metrics.classification_report(y_test,yprednb))\r\n",
        "    drawrocNB(y_test,yprednb)\r\n",
        "def main():\r\n",
        "    print(\"Naive Bayes Classifier\")\r\n",
        "    X,y=readcsv()\r\n",
        "    print(\"Evaluation\")\r\n",
        "    experiment1(X,y)#calling Naive Bayes Classifier\r\n",
        "    \r\n",
        "if __name__==\"__main__\":\r\n",
        "    main()"
      ],
      "execution_count": 70,
      "outputs": [
        {
          "output_type": "stream",
          "text": [
            "Naive Bayes Classifier\n",
            "Evaluation\n",
            "NB Metrics\n",
            "0.721875\n",
            "              precision    recall  f1-score   support\n",
            "\n",
            "           0       0.69      0.97      0.80       187\n",
            "           1       0.89      0.38      0.53       133\n",
            "\n",
            "    accuracy                           0.72       320\n",
            "   macro avg       0.79      0.67      0.67       320\n",
            "weighted avg       0.77      0.72      0.69       320\n",
            "\n",
            "Drawing\n"
          ],
          "name": "stdout"
        },
        {
          "output_type": "display_data",
          "data": {
            "image/png": "[encoded data removed]",
            "text/plain": [
              "<Figure size 432x288 with 1 Axes>"
            ]
          },
          "metadata": {
            "tags": [],
            "needs_background": "light"
          }
        }
      ]
    },
    {
      "cell_type": "code",
      "metadata": {
        "colab": {
          "base_uri": "https://localhost:8080/",
          "height": 556
        },
        "id": "3nhAMIfgOdNN",
        "outputId": "43fd40fc-a202-4013-998e-43eb89a01557"
      },
      "source": [
        "def experiment1(X,y): # KNN Classifier\r\n",
        "    X_train,X_test,y_train,y_test=train_test_split(X,y,test_size=0.3,random_state=0)\r\n",
        "    knn=Pipeline([('vect',CountVectorizer()),('tfidf',TfidfTransformer()),('knn',KNeighborsClassifier())])\r\n",
        "    knn=knn.fit(X_train,y_train)\r\n",
        "    ypredknn=knn.predict(X_test)\r\n",
        "    print(\"KNN evaluation\")\r\n",
        "    print(metrics.accuracy_score(y_test,ypredknn))\r\n",
        "    print(metrics.classification_report(y_test,ypredknn))\r\n",
        "    drawrocKNN(y_test,ypredknn)\r\n",
        "def main():\r\n",
        "    print(\"KNN Classifier\")\r\n",
        "    X,y=readcsv()\r\n",
        "    print(\"Evaluation\")\r\n",
        "    experiment1(X,y)#calling KNN Classifier\r\n",
        "    \r\n",
        "if __name__==\"__main__\":\r\n",
        "    main()\r\n"
      ],
      "execution_count": 71,
      "outputs": [
        {
          "output_type": "stream",
          "text": [
            "KNN Classifier\n",
            "Evaluation\n",
            "KNN evaluation\n",
            "0.665625\n",
            "              precision    recall  f1-score   support\n",
            "\n",
            "           0       0.74      0.67      0.70       187\n",
            "           1       0.59      0.66      0.62       133\n",
            "\n",
            "    accuracy                           0.67       320\n",
            "   macro avg       0.66      0.67      0.66       320\n",
            "weighted avg       0.67      0.67      0.67       320\n",
            "\n",
            "Drawing\n"
          ],
          "name": "stdout"
        },
        {
          "output_type": "display_data",
          "data": {
            "image/png": "[encoded data removed]",
            "text/plain": [
              "<Figure size 432x288 with 1 Axes>"
            ]
          },
          "metadata": {
            "tags": [],
            "needs_background": "light"
          }
        }
      ]
    },
    {
      "cell_type": "code",
      "metadata": {
        "colab": {
          "base_uri": "https://localhost:8080/"
        },
        "id": "owcNKYYJOdQw",
        "outputId": "aed38181-d16b-4db8-e379-61bbf704dcf9"
      },
      "source": [
        "def experiment2(X,y): # Different features with Support Vector Machine\r\n",
        "    X_train,X_test,y_train,y_test=train_test_split(X,y,test_size=0.3)\r\n",
        "    svm=createSVM(X_train,y_train)\r\n",
        "    y_pred=(svm.predict(X_test))\r\n",
        "    print(\"Original Accuracy: Unigram with tf-idf\")\r\n",
        "    print(metrics.confusion_matrix(y_test,y_pred))\r\n",
        "    print(metrics.accuracy_score(y_test,y_pred))\r\n",
        "    print(metrics.classification_report(y_test,y_pred))\r\n",
        "    stop=[\"haha\",\"lol\",\"lmao\"]\r\n",
        "def main():\r\n",
        "    print(\"Support Vector Machine Classifier\")\r\n",
        "    X,y=readcsv()\r\n",
        "    print(\"Evaluation\")\r\n",
        "    experiment2(X,y)#calling Support Vector Machine Classifier\r\n",
        "    \r\n",
        "if __name__==\"__main__\":\r\n",
        "    main()"
      ],
      "execution_count": 72,
      "outputs": [
        {
          "output_type": "stream",
          "text": [
            "Support Vector Machine Classifier\n",
            "Evaluation\n",
            "Original Accuracy: Unigram with tf-idf\n",
            "[[149  49]\n",
            " [ 46  76]]\n",
            "0.703125\n",
            "              precision    recall  f1-score   support\n",
            "\n",
            "           0       0.76      0.75      0.76       198\n",
            "           1       0.61      0.62      0.62       122\n",
            "\n",
            "    accuracy                           0.70       320\n",
            "   macro avg       0.69      0.69      0.69       320\n",
            "weighted avg       0.70      0.70      0.70       320\n",
            "\n"
          ],
          "name": "stdout"
        }
      ]
    },
    {
      "cell_type": "code",
      "metadata": {
        "colab": {
          "base_uri": "https://localhost:8080/"
        },
        "id": "KgM78QOPOdTr",
        "outputId": "76d7f21e-ac28-46e3-9579-390f660a9cd8"
      },
      "source": [
        "def experiment2(X,y): # Different features with Support Vector Machine\r\n",
        "    X_train,X_test,y_train,y_test=train_test_split(X,y,test_size=0.3)\r\n",
        "    svm2=Pipeline([('vect',CountVectorizer()),('svm',SVC(kernel=\"linear\",C=1))])\r\n",
        "    svm2=svm2.fit(X_train,y_train)\r\n",
        "    ypred2=svm2.predict(X_test)\r\n",
        "    print(\"Just unigram counts Accuracy\")\r\n",
        "    print(metrics.accuracy_score(y_test,ypred2))\r\n",
        "    print(metrics.classification_report(y_test,ypred2))\r\n",
        "def main():\r\n",
        "    print(\"Support Vector Machine Classifier\")\r\n",
        "    X,y=readcsv()\r\n",
        "    print(\"Evaluation\")\r\n",
        "    experiment2(X,y)#calling Support Vector Machine Classifier\r\n",
        "    \r\n",
        "if __name__==\"__main__\":\r\n",
        "    main()"
      ],
      "execution_count": 73,
      "outputs": [
        {
          "output_type": "stream",
          "text": [
            "Support Vector Machine Classifier\n",
            "Evaluation\n",
            "Just unigram counts Accuracy\n",
            "0.690625\n",
            "              precision    recall  f1-score   support\n",
            "\n",
            "           0       0.75      0.74      0.75       195\n",
            "           1       0.60      0.61      0.61       125\n",
            "\n",
            "    accuracy                           0.69       320\n",
            "   macro avg       0.68      0.68      0.68       320\n",
            "weighted avg       0.69      0.69      0.69       320\n",
            "\n"
          ],
          "name": "stdout"
        }
      ]
    },
    {
      "cell_type": "code",
      "metadata": {
        "colab": {
          "base_uri": "https://localhost:8080/"
        },
        "id": "HokLS-Q5OdWf",
        "outputId": "884789b7-e7ad-4364-eb68-02e490348ce9"
      },
      "source": [
        "def experiment2(X,y): # Different features with Support Vector Machine\r\n",
        "    X_train,X_test,y_train,y_test=train_test_split(X,y,test_size=0.3)\r\n",
        "    svm3=Pipeline([('vect',CountVectorizer(ngram_range=(1,2))),('svm',SVC(kernel=\"linear\",C=1))])\r\n",
        "    svm3=svm3.fit(X_train,y_train)\r\n",
        "    ypred3=svm3.predict(X_test)\r\n",
        "    print(\"Just bigram counts Accuracy\")\r\n",
        "    print(metrics.accuracy_score(y_test,ypred3))\r\n",
        "    print(metrics.classification_report(y_test,ypred3))\r\n",
        "def main():\r\n",
        "    print(\"Support Vector Machine Classifier\")\r\n",
        "    X,y=readcsv()\r\n",
        "    print(\"Evaluation\")\r\n",
        "    experiment2(X,y)#calling Support Vector Machine Classifier\r\n",
        "    \r\n",
        "if __name__==\"__main__\":\r\n",
        "    main()\r\n"
      ],
      "execution_count": 74,
      "outputs": [
        {
          "output_type": "stream",
          "text": [
            "Support Vector Machine Classifier\n",
            "Evaluation\n",
            "Just bigram counts Accuracy\n",
            "0.70625\n",
            "              precision    recall  f1-score   support\n",
            "\n",
            "           0       0.74      0.78      0.76       189\n",
            "           1       0.65      0.60      0.63       131\n",
            "\n",
            "    accuracy                           0.71       320\n",
            "   macro avg       0.70      0.69      0.69       320\n",
            "weighted avg       0.70      0.71      0.70       320\n",
            "\n"
          ],
          "name": "stdout"
        }
      ]
    },
    {
      "cell_type": "code",
      "metadata": {
        "colab": {
          "base_uri": "https://localhost:8080/"
        },
        "id": "ISMqNMSgPjkL",
        "outputId": "6f33ec40-44dc-4d3c-89b3-4c5964777440"
      },
      "source": [
        "def experiment2(X,y): # Different features with Support Vector Machine\r\n",
        "    X_train,X_test,y_train,y_test=train_test_split(X,y,test_size=0.3)\r\n",
        "    svm4=Pipeline([('vect',CountVectorizer(ngram_range=(1,3))),('svm',SVC(kernel=\"linear\",C=1))])\r\n",
        "    svm4=svm4.fit(X_train,y_train)\r\n",
        "    ypred4=svm4.predict(X_test)\r\n",
        "    print(\"Trigram counts Accuracy\")\r\n",
        "    print(metrics.accuracy_score(y_test,ypred4))\r\n",
        "    print(metrics.classification_report(y_test,ypred4))\r\n",
        "def main():\r\n",
        "    print(\"Support Vector Machine Classifier\")\r\n",
        "    X,y=readcsv()\r\n",
        "    print(\"Evaluation\")\r\n",
        "    experiment2(X,y)#calling Support Vector Machine Classifier\r\n",
        "    \r\n",
        "if __name__==\"__main__\":\r\n",
        "    main()\r\n"
      ],
      "execution_count": 75,
      "outputs": [
        {
          "output_type": "stream",
          "text": [
            "Support Vector Machine Classifier\n",
            "Evaluation\n",
            "Trigram counts Accuracy\n",
            "0.740625\n",
            "              precision    recall  f1-score   support\n",
            "\n",
            "           0       0.75      0.84      0.79       189\n",
            "           1       0.72      0.60      0.66       131\n",
            "\n",
            "    accuracy                           0.74       320\n",
            "   macro avg       0.74      0.72      0.72       320\n",
            "weighted avg       0.74      0.74      0.74       320\n",
            "\n"
          ],
          "name": "stdout"
        }
      ]
    },
    {
      "cell_type": "code",
      "metadata": {
        "colab": {
          "base_uri": "https://localhost:8080/"
        },
        "id": "Ki5tKC23PjvS",
        "outputId": "c62cd194-7fb5-4e18-ae79-f7bae9f96ec2"
      },
      "source": [
        "def experiment2(X,y): # Different features with Support Vector Machine\r\n",
        "    X_train,X_test,y_train,y_test=train_test_split(X,y,test_size=0.3)\r\n",
        "    svm5=Pipeline([('vect',CountVectorizer(ngram_range=(1,2))),('tfidf',TfidfTransformer()),('svm',SVC(kernel=\"linear\",C=1))])\r\n",
        "    svm5=svm5.fit(X_train,y_train)\r\n",
        "    ypred5=svm5.predict(X_test)\r\n",
        "    print(\"Bigram with tfidf Accuracy\")\r\n",
        "    print(metrics.accuracy_score(y_test,ypred5))\r\n",
        "    print(metrics.classification_report(y_test,ypred5))\r\n",
        "def main():\r\n",
        "    print(\"Support Vector Machine Classifier\")\r\n",
        "    X,y=readcsv()\r\n",
        "    print(\"Evaluation\")\r\n",
        "    experiment2(X,y)#calling Support Vector Machine Classifier\r\n",
        "    \r\n",
        "if __name__==\"__main__\":\r\n",
        "    main()"
      ],
      "execution_count": 76,
      "outputs": [
        {
          "output_type": "stream",
          "text": [
            "Support Vector Machine Classifier\n",
            "Evaluation\n",
            "Bigram with tfidf Accuracy\n",
            "0.759375\n",
            "              precision    recall  f1-score   support\n",
            "\n",
            "           0       0.80      0.81      0.80       196\n",
            "           1       0.69      0.69      0.69       124\n",
            "\n",
            "    accuracy                           0.76       320\n",
            "   macro avg       0.75      0.75      0.75       320\n",
            "weighted avg       0.76      0.76      0.76       320\n",
            "\n"
          ],
          "name": "stdout"
        }
      ]
    },
    {
      "cell_type": "code",
      "metadata": {
        "colab": {
          "base_uri": "https://localhost:8080/"
        },
        "id": "IKhTnERhP6vM",
        "outputId": "fb6dd03c-037e-4dec-cfdf-8bf4c72801ed"
      },
      "source": [
        "def experiment2(X,y): # Different features with Support Vector Machine\r\n",
        "    X_train,X_test,y_train,y_test=train_test_split(X,y,test_size=0.3)\r\n",
        "    svm6=Pipeline([('vect',CountVectorizer(ngram_range=(1,3))),('tfidf',TfidfTransformer()),('svm',SVC(kernel=\"linear\",C=1))])\r\n",
        "    svm6=svm6.fit(X_train,y_train)\r\n",
        "    ypred6=svm6.predict(X_test)\r\n",
        "    print(\"Trigram with tfidf Accuracy\")\r\n",
        "    print(metrics.accuracy_score(y_test,ypred6))\r\n",
        "    print(metrics.classification_report(y_test,ypred6))\r\n",
        "def main():\r\n",
        "    print(\"Support Vector Machine Classifier\")\r\n",
        "    X,y=readcsv()\r\n",
        "    print(\"Evaluation\")\r\n",
        "    experiment2(X,y)#calling Support Vector Machine Classifier\r\n",
        "    \r\n",
        "if __name__==\"__main__\":\r\n",
        "    main()"
      ],
      "execution_count": 77,
      "outputs": [
        {
          "output_type": "stream",
          "text": [
            "Support Vector Machine Classifier\n",
            "Evaluation\n",
            "Trigram with tfidf Accuracy\n",
            "0.775\n",
            "              precision    recall  f1-score   support\n",
            "\n",
            "           0       0.82      0.79      0.81       189\n",
            "           1       0.72      0.75      0.73       131\n",
            "\n",
            "    accuracy                           0.78       320\n",
            "   macro avg       0.77      0.77      0.77       320\n",
            "weighted avg       0.78      0.78      0.78       320\n",
            "\n"
          ],
          "name": "stdout"
        }
      ]
    },
    {
      "cell_type": "code",
      "metadata": {
        "colab": {
          "base_uri": "https://localhost:8080/"
        },
        "id": "fMl9UEbXQP3h",
        "outputId": "6250a48d-f998-435b-839b-81a1368e5d84"
      },
      "source": [
        "def experiment3(X,y): #  Different features Naive Bayes\r\n",
        "    X_train,X_test,y_train,y_test=train_test_split(X,y,test_size=0.3)\r\n",
        "    nb=createNB(X_train,y_train)\r\n",
        "    y_pred=nb.predict(X_test)\r\n",
        "    print(\"Original Accuracy - Unigram with tfidf\")\r\n",
        "    print(metrics.classification_report(y_test,y_pred))\r\n",
        "    print(metrics.accuracy_score(y_test,y_pred))\r\n",
        "def main():\r\n",
        "    print(\"Naive Bayes Classifier\")\r\n",
        "    X,y=readcsv()\r\n",
        "    print(\"Evaluation\")\r\n",
        "    experiment3(X,y)#calling Naive Bayes Classifier\r\n",
        "    \r\n",
        "if __name__==\"__main__\":\r\n",
        "    main()"
      ],
      "execution_count": 78,
      "outputs": [
        {
          "output_type": "stream",
          "text": [
            "Naive Bayes Classifier\n",
            "Evaluation\n",
            "Original Accuracy - Unigram with tfidf\n",
            "              precision    recall  f1-score   support\n",
            "\n",
            "           0       0.69      0.94      0.80       193\n",
            "           1       0.79      0.36      0.50       127\n",
            "\n",
            "    accuracy                           0.71       320\n",
            "   macro avg       0.74      0.65      0.65       320\n",
            "weighted avg       0.73      0.71      0.68       320\n",
            "\n",
            "0.709375\n"
          ],
          "name": "stdout"
        }
      ]
    },
    {
      "cell_type": "code",
      "metadata": {
        "colab": {
          "base_uri": "https://localhost:8080/"
        },
        "id": "DHwfms_iQP-Q",
        "outputId": "7efae551-9e67-4a10-d323-c1598f8f9a59"
      },
      "source": [
        "def experiment3(X,y): # Different Feature set with Naive Bayes\r\n",
        "    X_train,X_test,y_train,y_test=train_test_split(X,y,test_size=0.3)\r\n",
        "    nb2=Pipeline([('vect',CountVectorizer()),('nb',MultinomialNB())])\r\n",
        "    nb2=nb2.fit(X_train,y_train)\r\n",
        "    ypred2=nb2.predict(X_test)\r\n",
        "    print(\"Just Unigrams counts Accuracy\")\r\n",
        "    print(metrics.classification_report(y_test,ypred2))\r\n",
        "    print(metrics.accuracy_score(y_test,ypred2))\r\n",
        "def main():\r\n",
        "    print(\"Naive Bayes Classifier\")\r\n",
        "    X,y=readcsv()\r\n",
        "    print(\"Evaluation\")\r\n",
        "    experiment3(X,y)#calling Naive Bayes Classifier\r\n",
        "    \r\n",
        "if __name__==\"__main__\":\r\n",
        "    main()"
      ],
      "execution_count": 79,
      "outputs": [
        {
          "output_type": "stream",
          "text": [
            "Naive Bayes Classifier\n",
            "Evaluation\n",
            "Just Unigrams counts Accuracy\n",
            "              precision    recall  f1-score   support\n",
            "\n",
            "           0       0.72      0.78      0.75       184\n",
            "           1       0.66      0.58      0.62       136\n",
            "\n",
            "    accuracy                           0.70       320\n",
            "   macro avg       0.69      0.68      0.68       320\n",
            "weighted avg       0.69      0.70      0.69       320\n",
            "\n",
            "0.696875\n"
          ],
          "name": "stdout"
        }
      ]
    },
    {
      "cell_type": "code",
      "metadata": {
        "colab": {
          "base_uri": "https://localhost:8080/"
        },
        "id": "pTbhaylGQQCY",
        "outputId": "de1eb76d-0767-4268-a4e1-2fc0113d69ec"
      },
      "source": [
        "def experiment3(X,y): # Different Feature set with Naive Bayes\r\n",
        "    X_train,X_test,y_train,y_test=train_test_split(X,y,test_size=0.3)\r\n",
        "    nb3=Pipeline([('vect',CountVectorizer(ngram_range=(1,2))),('nb',MultinomialNB())])\r\n",
        "    nb3=nb3.fit(X_train,y_train)\r\n",
        "    ypred3=nb3.predict(X_test)\r\n",
        "    print(\"Bigram counts Accuracy\")\r\n",
        "    print(metrics.accuracy_score(y_test,ypred3))\r\n",
        "    print(metrics.classification_report(y_test,ypred3))\r\n",
        "def main():\r\n",
        "    print(\"Naive Bayes Classifier\")\r\n",
        "    X,y=readcsv()\r\n",
        "    print(\"Evaluation\")\r\n",
        "    experiment3(X,y)#calling Naive Bayes Classifier\r\n",
        "    \r\n",
        "if __name__==\"__main__\":\r\n",
        "    main()"
      ],
      "execution_count": 80,
      "outputs": [
        {
          "output_type": "stream",
          "text": [
            "Naive Bayes Classifier\n",
            "Evaluation\n",
            "Bigram counts Accuracy\n",
            "0.740625\n",
            "              precision    recall  f1-score   support\n",
            "\n",
            "           0       0.76      0.81      0.78       184\n",
            "           1       0.72      0.65      0.68       136\n",
            "\n",
            "    accuracy                           0.74       320\n",
            "   macro avg       0.74      0.73      0.73       320\n",
            "weighted avg       0.74      0.74      0.74       320\n",
            "\n"
          ],
          "name": "stdout"
        }
      ]
    },
    {
      "cell_type": "code",
      "metadata": {
        "colab": {
          "base_uri": "https://localhost:8080/"
        },
        "id": "jhdm_WHMQQGh",
        "outputId": "8aa1a0dc-a831-4d7f-a0de-f15638b07619"
      },
      "source": [
        "def experiment3(X,y): # Different Feature set with Naive Bayes\r\n",
        "    X_train,X_test,y_train,y_test=train_test_split(X,y,test_size=0.3)\r\n",
        "    nb4=Pipeline([('vect',CountVectorizer(ngram_range=(1,3))),('nb',MultinomialNB())])\r\n",
        "    nb4=nb4.fit(X_train,y_train)\r\n",
        "    ypred4=nb4.predict(X_test)\r\n",
        "    print(\"Trigram counts Accuracy\")\r\n",
        "    print(metrics.accuracy_score(y_test,ypred4))\r\n",
        "    print(metrics.classification_report(y_test,ypred4))\r\n",
        "def main():\r\n",
        "    print(\"Naive Bayes Classifier\")\r\n",
        "    X,y=readcsv()\r\n",
        "    print(\"Evaluation\")\r\n",
        "    experiment3(X,y)#calling Naive Bayes Classifier\r\n",
        "    \r\n",
        "if __name__==\"__main__\":\r\n",
        "    main()"
      ],
      "execution_count": 81,
      "outputs": [
        {
          "output_type": "stream",
          "text": [
            "Naive Bayes Classifier\n",
            "Evaluation\n",
            "Trigram counts Accuracy\n",
            "0.759375\n",
            "              precision    recall  f1-score   support\n",
            "\n",
            "           0       0.76      0.88      0.81       191\n",
            "           1       0.77      0.58      0.66       129\n",
            "\n",
            "    accuracy                           0.76       320\n",
            "   macro avg       0.76      0.73      0.74       320\n",
            "weighted avg       0.76      0.76      0.75       320\n",
            "\n"
          ],
          "name": "stdout"
        }
      ]
    },
    {
      "cell_type": "code",
      "metadata": {
        "colab": {
          "base_uri": "https://localhost:8080/"
        },
        "id": "0Q0JfQ1AQQJs",
        "outputId": "8fcc70bf-d593-436b-d42b-6e152273b56b"
      },
      "source": [
        "def experiment3(X,y): # Different Feature set with Naive Bayes\r\n",
        "    X_train,X_test,y_train,y_test=train_test_split(X,y,test_size=0.3)\r\n",
        "    nb5=Pipeline([('vect',CountVectorizer(ngram_range=(1,2))),('tfidf',TfidfTransformer()),('nb',MultinomialNB())])\r\n",
        "    nb5=nb5.fit(X_train,y_train)\r\n",
        "    ypred5=nb5.predict(X_test)\r\n",
        "    #drawrocSVM(y_test,ypred5)\r\n",
        "    print(\"Bigram with tfidf Accuracy\")\r\n",
        "    print(metrics.accuracy_score(y_test,ypred5))\r\n",
        "    print(metrics.classification_report(y_test,ypred5))\r\n",
        "def main():\r\n",
        "    print(\"Naive Bayes Classifier\")\r\n",
        "    X,y=readcsv()\r\n",
        "    print(\"Evaluation\")\r\n",
        "    experiment3(X,y)#calling Naive Bayes Classifier\r\n",
        "    \r\n",
        "if __name__==\"__main__\":\r\n",
        "    main() "
      ],
      "execution_count": 82,
      "outputs": [
        {
          "output_type": "stream",
          "text": [
            "Naive Bayes Classifier\n",
            "Evaluation\n",
            "Bigram with tfidf Accuracy\n",
            "0.7\n",
            "              precision    recall  f1-score   support\n",
            "\n",
            "           0       0.67      0.96      0.79       188\n",
            "           1       0.86      0.33      0.47       132\n",
            "\n",
            "    accuracy                           0.70       320\n",
            "   macro avg       0.77      0.64      0.63       320\n",
            "weighted avg       0.75      0.70      0.66       320\n",
            "\n"
          ],
          "name": "stdout"
        }
      ]
    },
    {
      "cell_type": "code",
      "metadata": {
        "colab": {
          "base_uri": "https://localhost:8080/"
        },
        "id": "gXgrbfS0QQMw",
        "outputId": "28d6871f-b20f-430f-b3d8-63f1485d7e90"
      },
      "source": [
        "def experiment3(X,y): # Different Feature set with Naive Bayes\r\n",
        "    X_train,X_test,y_train,y_test=train_test_split(X,y,test_size=0.3)\r\n",
        "    nb6=Pipeline([('vect',CountVectorizer(ngram_range=(1,3))),('tfidf',TfidfTransformer()),('nb',MultinomialNB())])\r\n",
        "    nb6=nb6.fit(X_train,y_train)\r\n",
        "    ypred6=nb6.predict(X_test)\r\n",
        "    #drawrocSVM(y_test,ypred5)\r\n",
        "    print(\"Trigram with tfidf Accuracy\")\r\n",
        "    print(metrics.classification_report(y_test,ypred6))\r\n",
        "    print(metrics.accuracy_score(y_test,ypred6))\r\n",
        "def main():\r\n",
        "    print(\"Naive Bayes Classifier\")\r\n",
        "    X,y=readcsv()\r\n",
        "    print(\"Evaluation\")\r\n",
        "    experiment3(X,y)#calling Naive Bayes Classifier\r\n",
        "    \r\n",
        "if __name__==\"__main__\":\r\n",
        "    main()"
      ],
      "execution_count": 83,
      "outputs": [
        {
          "output_type": "stream",
          "text": [
            "Naive Bayes Classifier\n",
            "Evaluation\n",
            "Trigram with tfidf Accuracy\n",
            "              precision    recall  f1-score   support\n",
            "\n",
            "           0       0.75      0.93      0.83       207\n",
            "           1       0.77      0.42      0.55       113\n",
            "\n",
            "    accuracy                           0.75       320\n",
            "   macro avg       0.76      0.68      0.69       320\n",
            "weighted avg       0.76      0.75      0.73       320\n",
            "\n",
            "0.753125\n"
          ],
          "name": "stdout"
        }
      ]
    },
    {
      "cell_type": "code",
      "metadata": {
        "colab": {
          "base_uri": "https://localhost:8080/"
        },
        "id": "Y7cJ3tiRQQPj",
        "outputId": "46d7e36b-4de6-4b2e-d753-30f8764ad6fe"
      },
      "source": [
        "def experiment4(X,y): # Different feature sets with KNN\r\n",
        "    X_train,X_test,y_train,y_test=train_test_split(X,y,test_size=0.3)\r\n",
        "    knn=Pipeline([('vect',CountVectorizer()),('tfidf',TfidfTransformer()),('knn',KNeighborsClassifier())])\r\n",
        "    knn=knn.fit(X_train,y_train)\r\n",
        "    ypredknn=knn.predict(X_test)\r\n",
        "    print(\"Original Accuracy: Unigram with tfidf\")\r\n",
        "    print(metrics.accuracy_score(y_test,ypredknn))\r\n",
        "    print(metrics.classification_report(y_test,ypredknn))\r\n",
        "def main():\r\n",
        "    print(\"KNN Classifier\")\r\n",
        "    X,y=readcsv()\r\n",
        "    print(\"Evaluation\")\r\n",
        "    experiment4(X,y)#calling KNN Classifier\r\n",
        "    \r\n",
        "if __name__==\"__main__\":\r\n",
        "    main()"
      ],
      "execution_count": 84,
      "outputs": [
        {
          "output_type": "stream",
          "text": [
            "KNN Classifier\n",
            "Evaluation\n",
            "Original Accuracy: Unigram with tfidf\n",
            "0.684375\n",
            "              precision    recall  f1-score   support\n",
            "\n",
            "           0       0.76      0.68      0.72       190\n",
            "           1       0.60      0.68      0.64       130\n",
            "\n",
            "    accuracy                           0.68       320\n",
            "   macro avg       0.68      0.68      0.68       320\n",
            "weighted avg       0.69      0.68      0.69       320\n",
            "\n"
          ],
          "name": "stdout"
        }
      ]
    },
    {
      "cell_type": "code",
      "metadata": {
        "colab": {
          "base_uri": "https://localhost:8080/"
        },
        "id": "2xe0Whw5RNXd",
        "outputId": "77a90135-e93d-4681-d5af-ecf37f883088"
      },
      "source": [
        "def experiment4(X,y): # Different feature sets with KNN\r\n",
        "    X_train,X_test,y_train,y_test=train_test_split(X,y,test_size=0.3)\r\n",
        "    knn=Pipeline([('vect',CountVectorizer()),('knn',KNeighborsClassifier())])\r\n",
        "    knn=knn.fit(X_train,y_train)\r\n",
        "    ypredknn=knn.predict(X_test)\r\n",
        "    print(\"Unigram counts Accuracy\")\r\n",
        "    print(metrics.accuracy_score(y_test,ypredknn))\r\n",
        "    print(metrics.classification_report(y_test,ypredknn))\r\n",
        "def main():\r\n",
        "    print(\"KNN Classifier\")\r\n",
        "    X,y=readcsv()\r\n",
        "    print(\"Evaluation\")\r\n",
        "    experiment4(X,y)#calling KNN Classifier\r\n",
        "    \r\n",
        "if __name__==\"__main__\":\r\n",
        "    main()\r\n",
        "\r\n",
        "    "
      ],
      "execution_count": 85,
      "outputs": [
        {
          "output_type": "stream",
          "text": [
            "KNN Classifier\n",
            "Evaluation\n",
            "Unigram counts Accuracy\n",
            "0.615625\n",
            "              precision    recall  f1-score   support\n",
            "\n",
            "           0       0.72      0.57      0.64       190\n",
            "           1       0.52      0.68      0.59       130\n",
            "\n",
            "    accuracy                           0.62       320\n",
            "   macro avg       0.62      0.63      0.61       320\n",
            "weighted avg       0.64      0.62      0.62       320\n",
            "\n"
          ],
          "name": "stdout"
        }
      ]
    },
    {
      "cell_type": "code",
      "metadata": {
        "colab": {
          "base_uri": "https://localhost:8080/"
        },
        "id": "QoaJFM6uRNbS",
        "outputId": "3c98a661-a1ab-4cbb-9505-1b02b5e824dc"
      },
      "source": [
        "def experiment4(X,y): # Different feature sets with KNN\r\n",
        "    X_train,X_test,y_train,y_test=train_test_split(X,y,test_size=0.3)\r\n",
        "    knn=Pipeline([('vect',CountVectorizer(ngram_range=(1,2))),('knn',KNeighborsClassifier())])\r\n",
        "    knn=knn.fit(X_train,y_train)\r\n",
        "    ypredknn=knn.predict(X_test)\r\n",
        "    print(\"Bigram counts Accuracy\")\r\n",
        "    print(metrics.accuracy_score(y_test,ypredknn))\r\n",
        "    print(metrics.classification_report(y_test,ypredknn))\r\n",
        "def main():\r\n",
        "    print(\"KNN Classifier\")\r\n",
        "    X,y=readcsv()\r\n",
        "    print(\"Evaluation\")\r\n",
        "    experiment4(X,y)#calling KNN Classifier\r\n",
        "    \r\n",
        "if __name__==\"__main__\":\r\n",
        "    main() "
      ],
      "execution_count": 86,
      "outputs": [
        {
          "output_type": "stream",
          "text": [
            "KNN Classifier\n",
            "Evaluation\n",
            "Bigram counts Accuracy\n",
            "0.7\n",
            "              precision    recall  f1-score   support\n",
            "\n",
            "           0       0.73      0.79      0.76       188\n",
            "           1       0.66      0.58      0.61       132\n",
            "\n",
            "    accuracy                           0.70       320\n",
            "   macro avg       0.69      0.68      0.68       320\n",
            "weighted avg       0.70      0.70      0.70       320\n",
            "\n"
          ],
          "name": "stdout"
        }
      ]
    },
    {
      "cell_type": "code",
      "metadata": {
        "colab": {
          "base_uri": "https://localhost:8080/"
        },
        "id": "EdqtYQqHRNfP",
        "outputId": "853af306-d101-4ca5-e25d-43458d4f57cf"
      },
      "source": [
        "def experiment4(X,y): # Different feature sets with KNN\r\n",
        "    X_train,X_test,y_train,y_test=train_test_split(X,y,test_size=0.3)\r\n",
        "    knn=Pipeline([('vect',CountVectorizer(ngram_range=(1,2))),('tfidf',TfidfTransformer()),('knn',KNeighborsClassifier())])\r\n",
        "    knn=knn.fit(X_train,y_train)\r\n",
        "    ypredknn=knn.predict(X_test)\r\n",
        "    print(\"Bigram with tfidf Accuracy\")\r\n",
        "    print(metrics.accuracy_score(y_test,ypredknn))\r\n",
        "    print(metrics.classification_report(y_test,ypredknn))\r\n",
        "def main():\r\n",
        "    print(\"KNN Classifier\")\r\n",
        "    X,y=readcsv()\r\n",
        "    print(\"Evaluation\")\r\n",
        "    experiment4(X,y)#calling KNN Classifier\r\n",
        "    \r\n",
        "if __name__==\"__main__\":\r\n",
        "    main()\r\n",
        "\r\n",
        "    "
      ],
      "execution_count": 87,
      "outputs": [
        {
          "output_type": "stream",
          "text": [
            "KNN Classifier\n",
            "Evaluation\n",
            "Bigram with tfidf Accuracy\n",
            "0.65625\n",
            "              precision    recall  f1-score   support\n",
            "\n",
            "           0       0.75      0.63      0.68       190\n",
            "           1       0.56      0.70      0.62       130\n",
            "\n",
            "    accuracy                           0.66       320\n",
            "   macro avg       0.66      0.66      0.65       320\n",
            "weighted avg       0.68      0.66      0.66       320\n",
            "\n"
          ],
          "name": "stdout"
        }
      ]
    },
    {
      "cell_type": "code",
      "metadata": {
        "colab": {
          "base_uri": "https://localhost:8080/"
        },
        "id": "FGWsQcU_RNim",
        "outputId": "00c2da55-49e8-4cc4-c608-481663d4ece2"
      },
      "source": [
        "def experiment4(X,y): # Different feature sets with KNN\r\n",
        "    X_train,X_test,y_train,y_test=train_test_split(X,y,test_size=0.3)\r\n",
        "    knn=Pipeline([('vect',CountVectorizer(ngram_range=(1,3))),('knn',KNeighborsClassifier())])\r\n",
        "    knn=knn.fit(X_train,y_train)\r\n",
        "    ypredknn=knn.predict(X_test)\r\n",
        "    print(\"Trigram counts Accuracy\")\r\n",
        "    print(metrics.accuracy_score(y_test,ypredknn))\r\n",
        "    print(metrics.classification_report(y_test,ypredknn))\r\n",
        "def main():\r\n",
        "    print(\"KNN Classifier\")\r\n",
        "    X,y=readcsv()\r\n",
        "    print(\"Evaluation\")\r\n",
        "    experiment4(X,y)#calling KNN Classifier\r\n",
        "    \r\n",
        "if __name__==\"__main__\":\r\n",
        "    main()\r\n",
        "\r\n",
        "    "
      ],
      "execution_count": 88,
      "outputs": [
        {
          "output_type": "stream",
          "text": [
            "KNN Classifier\n",
            "Evaluation\n",
            "Trigram counts Accuracy\n",
            "0.621875\n",
            "              precision    recall  f1-score   support\n",
            "\n",
            "           0       0.74      0.62      0.68       205\n",
            "           1       0.48      0.62      0.54       115\n",
            "\n",
            "    accuracy                           0.62       320\n",
            "   macro avg       0.61      0.62      0.61       320\n",
            "weighted avg       0.65      0.62      0.63       320\n",
            "\n"
          ],
          "name": "stdout"
        }
      ]
    },
    {
      "cell_type": "code",
      "metadata": {
        "colab": {
          "base_uri": "https://localhost:8080/"
        },
        "id": "IUe-bvfURNly",
        "outputId": "dfd35521-d01d-4e04-d7ea-8db6aa9ab903"
      },
      "source": [
        "def experiment4(X,y): # Different feature sets with KNN\r\n",
        "    X_train,X_test,y_train,y_test=train_test_split(X,y,test_size=0.3)\r\n",
        "    knn=Pipeline([('vect',CountVectorizer(ngram_range=(1,3))),('tfidf',TfidfTransformer()),('knn',KNeighborsClassifier())])\r\n",
        "    knn=knn.fit(X_train,y_train)\r\n",
        "    ypredknn=knn.predict(X_test)\r\n",
        "    print(\"Trigram with tfidf Accuracy\")\r\n",
        "    print(metrics.accuracy_score(y_test,ypredknn))\r\n",
        "    print(metrics.classification_report(y_test,ypredknn))\r\n",
        "def main():\r\n",
        "    print(\"KNN Classifier\")\r\n",
        "    X,y=readcsv()\r\n",
        "    print(\"Evalutaion\")\r\n",
        "    experiment4(X,y)#calling KNN Classifier\r\n",
        "    \r\n",
        "if __name__==\"__main__\":\r\n",
        "    main()"
      ],
      "execution_count": 89,
      "outputs": [
        {
          "output_type": "stream",
          "text": [
            "KNN Classifier\n",
            "Evalutaion\n",
            "Trigram with tfidf Accuracy\n",
            "0.653125\n",
            "              precision    recall  f1-score   support\n",
            "\n",
            "           0       0.69      0.70      0.70       181\n",
            "           1       0.60      0.59      0.60       139\n",
            "\n",
            "    accuracy                           0.65       320\n",
            "   macro avg       0.65      0.65      0.65       320\n",
            "weighted avg       0.65      0.65      0.65       320\n",
            "\n"
          ],
          "name": "stdout"
        }
      ]
    }
  ]
}